{
 "cells": [
  {
   "cell_type": "markdown",
   "metadata": {},
   "source": [
    "# Case Study 1 - Project 1: Heart Disease Prediction"
   ]
  },
  {
   "cell_type": "markdown",
   "metadata": {},
   "source": [
    "This notebook contains a full implementation of a prediction system for various heart diseases using binary classification. The overall goal of this notebook is to go through and understand all steps of the ML workflow, which can be summarized as follows:\n",
    "\n",
    "1. Look at the big picture and formulate the Problem to solve.\n",
    "2. Get relevant data, explore and visualize to understand the data\n",
    "3. Set Benchmark for evaluation - what do you want to achive?\n",
    "4. Prepare data for Machine Learning, select features, ...\n",
    "5. Choose appropriate model and train it\n",
    "6. Look at what else you can try: Fine tune your model,... and iterate\n",
    "7. Present your solution\n",
    "8. Deploy, Monitor and Maintain (this part will be covered in another project)\n",
    "\n"
   ]
  },
  {
   "cell_type": "markdown",
   "metadata": {},
   "source": [
    "**Initial Question**: *How would you approach the problem?*\n",
    "> **Answer**: I would start by looking for existing literature as well as already implemented projects. After an initial gathering of understanding I would search for datasets to inspect and look for features to include or exclude in training/testing. After preparing the data for training, i would select a machine learning model based on existing literature projects to train and evaluate using the data selected before. Finally, I would tweak the model and or the dataset in order to improve prediction accuracy. After achieving a minimum required accuracy, i would prepare and present the results and finally deploy the model."
   ]
  },
  {
   "cell_type": "markdown",
   "metadata": {},
   "source": [
    "## Imports"
   ]
  },
  {
   "cell_type": "code",
   "execution_count": 1,
   "metadata": {},
   "outputs": [],
   "source": [
    "import pandas as pd\n",
    "\n",
    "import numpy as np\n",
    "\n",
    "import matplotlib.pyplot as plt\n",
    "\n",
    "from sklearn.model_selection import train_test_split\n",
    "from sklearn.ensemble import RandomForestClassifier\n",
    "from sklearn.metrics import  confusion_matrix, classification_report, accuracy_score\n",
    "\n",
    "import seaborn as sns\n",
    "\n",
    "import ucimlrepo as uci\n",
    "\n",
    "import pickle"
   ]
  },
  {
   "cell_type": "markdown",
   "metadata": {},
   "source": [
    "## 1. Project Understanding"
   ]
  },
  {
   "cell_type": "markdown",
   "metadata": {},
   "source": [
    "**Initial Question**: *How does the company expect to use and benefit from this model?*\n",
    "> **Answer**: Using binary classification, this model could be used to increase the efficiency of recognizing heart diseases in hospitals early and thus provide appropriate treatment for patients early. This could be done by collecting the vitality parameters of the patients that are needed as featuers for the prediction model. The benefits of this could be an overall increase of health in the population and a dicrease in fatal cases of heart diseases."
   ]
  },
  {
   "cell_type": "markdown",
   "metadata": {},
   "source": [
    "## 2. Gathering Data"
   ]
  },
  {
   "cell_type": "markdown",
   "metadata": {},
   "source": [
    "For this step, we would normally compare between different public datasets (or create our own depending on use case and complexity) in order to decide which data to use. For the first project of this course, we will keep it simple and use the dataset provided in the project specification.\n",
    "\n",
    "The dataset used for this project is the [Heart Disease Dataset](https://archive.ics.uci.edu/dataset/45/heart+disease)  from the [UCI Machine Learning Repository](https://archive.ics.uci.edu/), which provides a python package called **ucimlrepo** for loading the dataset. It can be loaded as follows:"
   ]
  },
  {
   "cell_type": "code",
   "execution_count": 2,
   "metadata": {},
   "outputs": [],
   "source": [
    "heart_disease = uci.fetch_ucirepo(id=45) \n",
    "\n",
    "# load data as dataframes\n",
    "X = heart_disease.data.features \n",
    "y = heart_disease.data.targets "
   ]
  },
  {
   "cell_type": "markdown",
   "metadata": {},
   "source": [
    "After loading the data, we start by looking at the metadata to get more information about the dataset itself."
   ]
  },
  {
   "cell_type": "code",
   "execution_count": 3,
   "metadata": {},
   "outputs": [
    {
     "name": "stdout",
     "output_type": "stream",
     "text": [
      "{'abstract': '4 databases: Cleveland, Hungary, Switzerland, and the VA Long '\n",
      "             'Beach',\n",
      " 'additional_info': {'citation': None,\n",
      "                     'funded_by': None,\n",
      "                     'instances_represent': None,\n",
      "                     'preprocessing_description': None,\n",
      "                     'purpose': None,\n",
      "                     'recommended_data_splits': None,\n",
      "                     'sensitive_data': None,\n",
      "                     'summary': 'This database contains 76 attributes, but all '\n",
      "                                'published experiments refer to using a subset '\n",
      "                                'of 14 of them.  In particular, the Cleveland '\n",
      "                                'database is the only one that has been used '\n",
      "                                'by ML researchers to date.  The \"goal\" field '\n",
      "                                'refers to the presence of heart disease in '\n",
      "                                'the patient.  It is integer valued from 0 (no '\n",
      "                                'presence) to 4. Experiments with the '\n",
      "                                'Cleveland database have concentrated on '\n",
      "                                'simply attempting to distinguish presence '\n",
      "                                '(values 1,2,3,4) from absence (value 0).  \\n'\n",
      "                                '   \\n'\n",
      "                                'The names and social security numbers of the '\n",
      "                                'patients were recently removed from the '\n",
      "                                'database, replaced with dummy values.\\n'\n",
      "                                '\\n'\n",
      "                                'One file has been \"processed\", that one '\n",
      "                                'containing the Cleveland database.  All four '\n",
      "                                'unprocessed files also exist in this '\n",
      "                                'directory.\\n'\n",
      "                                '\\n'\n",
      "                                'To see Test Costs (donated by Peter Turney), '\n",
      "                                'please see the folder \"Costs\" ',\n",
      "                     'variable_info': 'Only 14 attributes used:\\r\\n'\n",
      "                                      '      1. #3  (age)       \\r\\n'\n",
      "                                      '      2. #4  (sex)       \\r\\n'\n",
      "                                      '      3. #9  (cp)        \\r\\n'\n",
      "                                      '      4. #10 (trestbps)  \\r\\n'\n",
      "                                      '      5. #12 (chol)      \\r\\n'\n",
      "                                      '      6. #16 (fbs)       \\r\\n'\n",
      "                                      '      7. #19 (restecg)   \\r\\n'\n",
      "                                      '      8. #32 (thalach)   \\r\\n'\n",
      "                                      '      9. #38 (exang)     \\r\\n'\n",
      "                                      '      10. #40 (oldpeak)   \\r\\n'\n",
      "                                      '      11. #41 (slope)     \\r\\n'\n",
      "                                      '      12. #44 (ca)        \\r\\n'\n",
      "                                      '      13. #51 (thal)      \\r\\n'\n",
      "                                      '      14. #58 (num)       (the '\n",
      "                                      'predicted attribute)\\r\\n'\n",
      "                                      '\\r\\n'\n",
      "                                      'Complete attribute documentation:\\r\\n'\n",
      "                                      '      1 id: patient identification '\n",
      "                                      'number\\r\\n'\n",
      "                                      '      2 ccf: social security number (I '\n",
      "                                      'replaced this with a dummy value of '\n",
      "                                      '0)\\r\\n'\n",
      "                                      '      3 age: age in years\\r\\n'\n",
      "                                      '      4 sex: sex (1 = male; 0 = '\n",
      "                                      'female)\\r\\n'\n",
      "                                      '      5 painloc: chest pain location (1 '\n",
      "                                      '= substernal; 0 = otherwise)\\r\\n'\n",
      "                                      '      6 painexer (1 = provoked by '\n",
      "                                      'exertion; 0 = otherwise)\\r\\n'\n",
      "                                      '      7 relrest (1 = relieved after '\n",
      "                                      'rest; 0 = otherwise)\\r\\n'\n",
      "                                      '      8 pncaden (sum of 5, 6, and 7)\\r\\n'\n",
      "                                      '      9 cp: chest pain type\\r\\n'\n",
      "                                      '        -- Value 1: typical angina\\r\\n'\n",
      "                                      '        -- Value 2: atypical angina\\r\\n'\n",
      "                                      '        -- Value 3: non-anginal pain\\r\\n'\n",
      "                                      '        -- Value 4: asymptomatic\\r\\n'\n",
      "                                      '     10 trestbps: resting blood '\n",
      "                                      'pressure (in mm Hg on admission to the '\n",
      "                                      'hospital)\\r\\n'\n",
      "                                      '     11 htn\\r\\n'\n",
      "                                      '     12 chol: serum cholestoral in '\n",
      "                                      'mg/dl\\r\\n'\n",
      "                                      '     13 smoke: I believe this is 1 = '\n",
      "                                      'yes; 0 = no (is or is not a smoker)\\r\\n'\n",
      "                                      '     14 cigs (cigarettes per day)\\r\\n'\n",
      "                                      '     15 years (number of years as a '\n",
      "                                      'smoker)\\r\\n'\n",
      "                                      '     16 fbs: (fasting blood sugar > 120 '\n",
      "                                      'mg/dl)  (1 = true; 0 = false)\\r\\n'\n",
      "                                      '     17 dm (1 = history of diabetes; 0 '\n",
      "                                      '= no such history)\\r\\n'\n",
      "                                      '     18 famhist: family history of '\n",
      "                                      'coronary artery disease (1 = yes; 0 = '\n",
      "                                      'no)\\r\\n'\n",
      "                                      '     19 restecg: resting '\n",
      "                                      'electrocardiographic results\\r\\n'\n",
      "                                      '        -- Value 0: normal\\r\\n'\n",
      "                                      '        -- Value 1: having ST-T wave '\n",
      "                                      'abnormality (T wave inversions and/or '\n",
      "                                      'ST elevation or depression of > 0.05 '\n",
      "                                      'mV)\\r\\n'\n",
      "                                      '        -- Value 2: showing probable or '\n",
      "                                      'definite left ventricular hypertrophy '\n",
      "                                      \"by Estes' criteria\\r\\n\"\n",
      "                                      '     20 ekgmo (month of exercise ECG '\n",
      "                                      'reading)\\r\\n'\n",
      "                                      '     21 ekgday(day of exercise ECG '\n",
      "                                      'reading)\\r\\n'\n",
      "                                      '     22 ekgyr (year of exercise ECG '\n",
      "                                      'reading)\\r\\n'\n",
      "                                      '     23 dig (digitalis used furing '\n",
      "                                      'exercise ECG: 1 = yes; 0 = no)\\r\\n'\n",
      "                                      '     24 prop (Beta blocker used during '\n",
      "                                      'exercise ECG: 1 = yes; 0 = no)\\r\\n'\n",
      "                                      '     25 nitr (nitrates used during '\n",
      "                                      'exercise ECG: 1 = yes; 0 = no)\\r\\n'\n",
      "                                      '     26 pro (calcium channel blocker '\n",
      "                                      'used during exercise ECG: 1 = yes; 0 = '\n",
      "                                      'no)\\r\\n'\n",
      "                                      '     27 diuretic (diuretic used used '\n",
      "                                      'during exercise ECG: 1 = yes; 0 = '\n",
      "                                      'no)\\r\\n'\n",
      "                                      '     28 proto: exercise protocol\\r\\n'\n",
      "                                      '          1 = Bruce     \\r\\n'\n",
      "                                      '          2 = Kottus\\r\\n'\n",
      "                                      '          3 = McHenry\\r\\n'\n",
      "                                      '          4 = fast Balke\\r\\n'\n",
      "                                      '          5 = Balke\\r\\n'\n",
      "                                      '          6 = Noughton \\r\\n'\n",
      "                                      '          7 = bike 150 kpa min/min  '\n",
      "                                      '(Not sure if \"kpa min/min\" is what was '\n",
      "                                      'written!)\\r\\n'\n",
      "                                      '          8 = bike 125 kpa min/min  \\r\\n'\n",
      "                                      '          9 = bike 100 kpa min/min\\r\\n'\n",
      "                                      '         10 = bike 75 kpa min/min\\r\\n'\n",
      "                                      '         11 = bike 50 kpa min/min\\r\\n'\n",
      "                                      '         12 = arm ergometer\\r\\n'\n",
      "                                      '     29 thaldur: duration of exercise '\n",
      "                                      'test in minutes\\r\\n'\n",
      "                                      '     30 thaltime: time when ST measure '\n",
      "                                      'depression was noted\\r\\n'\n",
      "                                      '     31 met: mets achieved\\r\\n'\n",
      "                                      '     32 thalach: maximum heart rate '\n",
      "                                      'achieved\\r\\n'\n",
      "                                      '     33 thalrest: resting heart rate\\r\\n'\n",
      "                                      '     34 tpeakbps: peak exercise blood '\n",
      "                                      'pressure (first of 2 parts)\\r\\n'\n",
      "                                      '     35 tpeakbpd: peak exercise blood '\n",
      "                                      'pressure (second of 2 parts)\\r\\n'\n",
      "                                      '     36 dummy\\r\\n'\n",
      "                                      '     37 trestbpd: resting blood '\n",
      "                                      'pressure\\r\\n'\n",
      "                                      '     38 exang: exercise induced angina '\n",
      "                                      '(1 = yes; 0 = no)\\r\\n'\n",
      "                                      '     39 xhypo: (1 = yes; 0 = no)\\r\\n'\n",
      "                                      '     40 oldpeak = ST depression induced '\n",
      "                                      'by exercise relative to rest\\r\\n'\n",
      "                                      '     41 slope: the slope of the peak '\n",
      "                                      'exercise ST segment\\r\\n'\n",
      "                                      '        -- Value 1: upsloping\\r\\n'\n",
      "                                      '        -- Value 2: flat\\r\\n'\n",
      "                                      '        -- Value 3: downsloping\\r\\n'\n",
      "                                      '     42 rldv5: height at rest\\r\\n'\n",
      "                                      '     43 rldv5e: height at peak '\n",
      "                                      'exercise\\r\\n'\n",
      "                                      '     44 ca: number of major vessels '\n",
      "                                      '(0-3) colored by flourosopy\\r\\n'\n",
      "                                      '     45 restckm: irrelevant\\r\\n'\n",
      "                                      '     46 exerckm: irrelevant\\r\\n'\n",
      "                                      '     47 restef: rest raidonuclid (sp?) '\n",
      "                                      'ejection fraction\\r\\n'\n",
      "                                      '     48 restwm: rest wall (sp?) motion '\n",
      "                                      'abnormality\\r\\n'\n",
      "                                      '        0 = none\\r\\n'\n",
      "                                      '        1 = mild or moderate\\r\\n'\n",
      "                                      '        2 = moderate or severe\\r\\n'\n",
      "                                      '        3 = akinesis or dyskmem '\n",
      "                                      '(sp?)\\r\\n'\n",
      "                                      '     49 exeref: exercise radinalid '\n",
      "                                      '(sp?) ejection fraction\\r\\n'\n",
      "                                      '     50 exerwm: exercise wall (sp?) '\n",
      "                                      'motion \\r\\n'\n",
      "                                      '     51 thal: 3 = normal; 6 = fixed '\n",
      "                                      'defect; 7 = reversable defect\\r\\n'\n",
      "                                      '     52 thalsev: not used\\r\\n'\n",
      "                                      '     53 thalpul: not used\\r\\n'\n",
      "                                      '     54 earlobe: not used\\r\\n'\n",
      "                                      '     55 cmo: month of cardiac cath '\n",
      "                                      '(sp?)  (perhaps \"call\")\\r\\n'\n",
      "                                      '     56 cday: day of cardiac cath '\n",
      "                                      '(sp?)\\r\\n'\n",
      "                                      '     57 cyr: year of cardiac cath '\n",
      "                                      '(sp?)\\r\\n'\n",
      "                                      '     58 num: diagnosis of heart disease '\n",
      "                                      '(angiographic disease status)\\r\\n'\n",
      "                                      '        -- Value 0: < 50% diameter '\n",
      "                                      'narrowing\\r\\n'\n",
      "                                      '        -- Value 1: > 50% diameter '\n",
      "                                      'narrowing\\r\\n'\n",
      "                                      '        (in any major vessel: '\n",
      "                                      'attributes 59 through 68 are '\n",
      "                                      'vessels)\\r\\n'\n",
      "                                      '     59 lmt\\r\\n'\n",
      "                                      '     60 ladprox\\r\\n'\n",
      "                                      '     61 laddist\\r\\n'\n",
      "                                      '     62 diag\\r\\n'\n",
      "                                      '     63 cxmain\\r\\n'\n",
      "                                      '     64 ramus\\r\\n'\n",
      "                                      '     65 om1\\r\\n'\n",
      "                                      '     66 om2\\r\\n'\n",
      "                                      '     67 rcaprox\\r\\n'\n",
      "                                      '     68 rcadist\\r\\n'\n",
      "                                      '     69 lvx1: not used\\r\\n'\n",
      "                                      '     70 lvx2: not used\\r\\n'\n",
      "                                      '     71 lvx3: not used\\r\\n'\n",
      "                                      '     72 lvx4: not used\\r\\n'\n",
      "                                      '     73 lvf: not used\\r\\n'\n",
      "                                      '     74 cathef: not used\\r\\n'\n",
      "                                      '     75 junk: not used\\r\\n'\n",
      "                                      '     76 name: last name of patient  (I '\n",
      "                                      'replaced this with the dummy string '\n",
      "                                      '\"name\")'},\n",
      " 'area': 'Health and Medicine',\n",
      " 'characteristics': ['Multivariate'],\n",
      " 'creators': ['Andras Janosi',\n",
      "              'William Steinbrunn',\n",
      "              'Matthias Pfisterer',\n",
      "              'Robert Detrano'],\n",
      " 'data_url': 'https://archive.ics.uci.edu/static/public/45/data.csv',\n",
      " 'dataset_doi': '10.24432/C52P4X',\n",
      " 'demographics': ['Age', 'Sex'],\n",
      " 'feature_types': ['Categorical', 'Integer', 'Real'],\n",
      " 'has_missing_values': 'yes',\n",
      " 'index_col': None,\n",
      " 'intro_paper': {'DOI': None,\n",
      "                 'ID': 231,\n",
      "                 'URL': 'https://www.semanticscholar.org/paper/a7d714f8f87bfc41351eb5ae1e5472f0ebbe0574',\n",
      "                 'acl': None,\n",
      "                 'arxiv': None,\n",
      "                 'authors': 'R. Detrano, A. Jánosi, W. Steinbrunn, M. '\n",
      "                            'Pfisterer, J. Schmid, S. Sandhu, K. Guppy, S. '\n",
      "                            'Lee, V. Froelicher',\n",
      "                 'corpus': None,\n",
      "                 'journal': None,\n",
      "                 'mag': None,\n",
      "                 'pmcid': None,\n",
      "                 'pmid': '2756873',\n",
      "                 'sha': None,\n",
      "                 'title': 'International application of a new probability '\n",
      "                          'algorithm for the diagnosis of coronary artery '\n",
      "                          'disease.',\n",
      "                 'type': 'NATIVE',\n",
      "                 'venue': 'American Journal of Cardiology',\n",
      "                 'year': 1989},\n",
      " 'last_updated': 'Fri Nov 03 2023',\n",
      " 'missing_values_symbol': 'NaN',\n",
      " 'name': 'Heart Disease',\n",
      " 'num_features': 13,\n",
      " 'num_instances': 303,\n",
      " 'repository_url': 'https://archive.ics.uci.edu/dataset/45/heart+disease',\n",
      " 'target_col': ['num'],\n",
      " 'tasks': ['Classification'],\n",
      " 'uci_id': 45,\n",
      " 'year_of_dataset_creation': 1989}\n"
     ]
    }
   ],
   "source": [
    "from pprint import pprint\n",
    "\n",
    "pprint(heart_disease.metadata)"
   ]
  },
  {
   "cell_type": "markdown",
   "metadata": {},
   "source": [
    "The next step is to look at the different input features to get a better understanding of what the dataset contains and what can be used for training the binary classifier."
   ]
  },
  {
   "cell_type": "code",
   "execution_count": 4,
   "metadata": {},
   "outputs": [
    {
     "data": {
      "application/vnd.microsoft.datawrangler.viewer.v0+json": {
       "columns": [
        {
         "name": "index",
         "rawType": "int64",
         "type": "integer"
        },
        {
         "name": "name",
         "rawType": "object",
         "type": "string"
        },
        {
         "name": "role",
         "rawType": "object",
         "type": "string"
        },
        {
         "name": "type",
         "rawType": "object",
         "type": "string"
        },
        {
         "name": "demographic",
         "rawType": "object",
         "type": "unknown"
        },
        {
         "name": "description",
         "rawType": "object",
         "type": "unknown"
        },
        {
         "name": "units",
         "rawType": "object",
         "type": "unknown"
        },
        {
         "name": "missing_values",
         "rawType": "object",
         "type": "string"
        }
       ],
       "conversionMethod": "pd.DataFrame",
       "ref": "d414b31c-0263-43e7-8fb7-f412a0450ec1",
       "rows": [
        [
         "0",
         "age",
         "Feature",
         "Integer",
         "Age",
         null,
         "years",
         "no"
        ],
        [
         "1",
         "sex",
         "Feature",
         "Categorical",
         "Sex",
         null,
         null,
         "no"
        ],
        [
         "2",
         "cp",
         "Feature",
         "Categorical",
         null,
         null,
         null,
         "no"
        ],
        [
         "3",
         "trestbps",
         "Feature",
         "Integer",
         null,
         "resting blood pressure (on admission to the hospital)",
         "mm Hg",
         "no"
        ],
        [
         "4",
         "chol",
         "Feature",
         "Integer",
         null,
         "serum cholestoral",
         "mg/dl",
         "no"
        ],
        [
         "5",
         "fbs",
         "Feature",
         "Categorical",
         null,
         "fasting blood sugar > 120 mg/dl",
         null,
         "no"
        ],
        [
         "6",
         "restecg",
         "Feature",
         "Categorical",
         null,
         null,
         null,
         "no"
        ],
        [
         "7",
         "thalach",
         "Feature",
         "Integer",
         null,
         "maximum heart rate achieved",
         null,
         "no"
        ],
        [
         "8",
         "exang",
         "Feature",
         "Categorical",
         null,
         "exercise induced angina",
         null,
         "no"
        ],
        [
         "9",
         "oldpeak",
         "Feature",
         "Integer",
         null,
         "ST depression induced by exercise relative to rest",
         null,
         "no"
        ],
        [
         "10",
         "slope",
         "Feature",
         "Categorical",
         null,
         null,
         null,
         "no"
        ],
        [
         "11",
         "ca",
         "Feature",
         "Integer",
         null,
         "number of major vessels (0-3) colored by flourosopy",
         null,
         "yes"
        ],
        [
         "12",
         "thal",
         "Feature",
         "Categorical",
         null,
         null,
         null,
         "yes"
        ],
        [
         "13",
         "num",
         "Target",
         "Integer",
         null,
         "diagnosis of heart disease",
         null,
         "no"
        ]
       ],
       "shape": {
        "columns": 7,
        "rows": 14
       }
      },
      "text/html": [
       "<div>\n",
       "<style scoped>\n",
       "    .dataframe tbody tr th:only-of-type {\n",
       "        vertical-align: middle;\n",
       "    }\n",
       "\n",
       "    .dataframe tbody tr th {\n",
       "        vertical-align: top;\n",
       "    }\n",
       "\n",
       "    .dataframe thead th {\n",
       "        text-align: right;\n",
       "    }\n",
       "</style>\n",
       "<table border=\"1\" class=\"dataframe\">\n",
       "  <thead>\n",
       "    <tr style=\"text-align: right;\">\n",
       "      <th></th>\n",
       "      <th>name</th>\n",
       "      <th>role</th>\n",
       "      <th>type</th>\n",
       "      <th>demographic</th>\n",
       "      <th>description</th>\n",
       "      <th>units</th>\n",
       "      <th>missing_values</th>\n",
       "    </tr>\n",
       "  </thead>\n",
       "  <tbody>\n",
       "    <tr>\n",
       "      <th>0</th>\n",
       "      <td>age</td>\n",
       "      <td>Feature</td>\n",
       "      <td>Integer</td>\n",
       "      <td>Age</td>\n",
       "      <td>None</td>\n",
       "      <td>years</td>\n",
       "      <td>no</td>\n",
       "    </tr>\n",
       "    <tr>\n",
       "      <th>1</th>\n",
       "      <td>sex</td>\n",
       "      <td>Feature</td>\n",
       "      <td>Categorical</td>\n",
       "      <td>Sex</td>\n",
       "      <td>None</td>\n",
       "      <td>None</td>\n",
       "      <td>no</td>\n",
       "    </tr>\n",
       "    <tr>\n",
       "      <th>2</th>\n",
       "      <td>cp</td>\n",
       "      <td>Feature</td>\n",
       "      <td>Categorical</td>\n",
       "      <td>None</td>\n",
       "      <td>None</td>\n",
       "      <td>None</td>\n",
       "      <td>no</td>\n",
       "    </tr>\n",
       "    <tr>\n",
       "      <th>3</th>\n",
       "      <td>trestbps</td>\n",
       "      <td>Feature</td>\n",
       "      <td>Integer</td>\n",
       "      <td>None</td>\n",
       "      <td>resting blood pressure (on admission to the ho...</td>\n",
       "      <td>mm Hg</td>\n",
       "      <td>no</td>\n",
       "    </tr>\n",
       "    <tr>\n",
       "      <th>4</th>\n",
       "      <td>chol</td>\n",
       "      <td>Feature</td>\n",
       "      <td>Integer</td>\n",
       "      <td>None</td>\n",
       "      <td>serum cholestoral</td>\n",
       "      <td>mg/dl</td>\n",
       "      <td>no</td>\n",
       "    </tr>\n",
       "    <tr>\n",
       "      <th>5</th>\n",
       "      <td>fbs</td>\n",
       "      <td>Feature</td>\n",
       "      <td>Categorical</td>\n",
       "      <td>None</td>\n",
       "      <td>fasting blood sugar &gt; 120 mg/dl</td>\n",
       "      <td>None</td>\n",
       "      <td>no</td>\n",
       "    </tr>\n",
       "    <tr>\n",
       "      <th>6</th>\n",
       "      <td>restecg</td>\n",
       "      <td>Feature</td>\n",
       "      <td>Categorical</td>\n",
       "      <td>None</td>\n",
       "      <td>None</td>\n",
       "      <td>None</td>\n",
       "      <td>no</td>\n",
       "    </tr>\n",
       "    <tr>\n",
       "      <th>7</th>\n",
       "      <td>thalach</td>\n",
       "      <td>Feature</td>\n",
       "      <td>Integer</td>\n",
       "      <td>None</td>\n",
       "      <td>maximum heart rate achieved</td>\n",
       "      <td>None</td>\n",
       "      <td>no</td>\n",
       "    </tr>\n",
       "    <tr>\n",
       "      <th>8</th>\n",
       "      <td>exang</td>\n",
       "      <td>Feature</td>\n",
       "      <td>Categorical</td>\n",
       "      <td>None</td>\n",
       "      <td>exercise induced angina</td>\n",
       "      <td>None</td>\n",
       "      <td>no</td>\n",
       "    </tr>\n",
       "    <tr>\n",
       "      <th>9</th>\n",
       "      <td>oldpeak</td>\n",
       "      <td>Feature</td>\n",
       "      <td>Integer</td>\n",
       "      <td>None</td>\n",
       "      <td>ST depression induced by exercise relative to ...</td>\n",
       "      <td>None</td>\n",
       "      <td>no</td>\n",
       "    </tr>\n",
       "    <tr>\n",
       "      <th>10</th>\n",
       "      <td>slope</td>\n",
       "      <td>Feature</td>\n",
       "      <td>Categorical</td>\n",
       "      <td>None</td>\n",
       "      <td>None</td>\n",
       "      <td>None</td>\n",
       "      <td>no</td>\n",
       "    </tr>\n",
       "    <tr>\n",
       "      <th>11</th>\n",
       "      <td>ca</td>\n",
       "      <td>Feature</td>\n",
       "      <td>Integer</td>\n",
       "      <td>None</td>\n",
       "      <td>number of major vessels (0-3) colored by flour...</td>\n",
       "      <td>None</td>\n",
       "      <td>yes</td>\n",
       "    </tr>\n",
       "    <tr>\n",
       "      <th>12</th>\n",
       "      <td>thal</td>\n",
       "      <td>Feature</td>\n",
       "      <td>Categorical</td>\n",
       "      <td>None</td>\n",
       "      <td>None</td>\n",
       "      <td>None</td>\n",
       "      <td>yes</td>\n",
       "    </tr>\n",
       "    <tr>\n",
       "      <th>13</th>\n",
       "      <td>num</td>\n",
       "      <td>Target</td>\n",
       "      <td>Integer</td>\n",
       "      <td>None</td>\n",
       "      <td>diagnosis of heart disease</td>\n",
       "      <td>None</td>\n",
       "      <td>no</td>\n",
       "    </tr>\n",
       "  </tbody>\n",
       "</table>\n",
       "</div>"
      ],
      "text/plain": [
       "        name     role         type demographic  \\\n",
       "0        age  Feature      Integer         Age   \n",
       "1        sex  Feature  Categorical         Sex   \n",
       "2         cp  Feature  Categorical        None   \n",
       "3   trestbps  Feature      Integer        None   \n",
       "4       chol  Feature      Integer        None   \n",
       "5        fbs  Feature  Categorical        None   \n",
       "6    restecg  Feature  Categorical        None   \n",
       "7    thalach  Feature      Integer        None   \n",
       "8      exang  Feature  Categorical        None   \n",
       "9    oldpeak  Feature      Integer        None   \n",
       "10     slope  Feature  Categorical        None   \n",
       "11        ca  Feature      Integer        None   \n",
       "12      thal  Feature  Categorical        None   \n",
       "13       num   Target      Integer        None   \n",
       "\n",
       "                                          description  units missing_values  \n",
       "0                                                None  years             no  \n",
       "1                                                None   None             no  \n",
       "2                                                None   None             no  \n",
       "3   resting blood pressure (on admission to the ho...  mm Hg             no  \n",
       "4                                   serum cholestoral  mg/dl             no  \n",
       "5                     fasting blood sugar > 120 mg/dl   None             no  \n",
       "6                                                None   None             no  \n",
       "7                         maximum heart rate achieved   None             no  \n",
       "8                             exercise induced angina   None             no  \n",
       "9   ST depression induced by exercise relative to ...   None             no  \n",
       "10                                               None   None             no  \n",
       "11  number of major vessels (0-3) colored by flour...   None            yes  \n",
       "12                                               None   None            yes  \n",
       "13                         diagnosis of heart disease   None             no  "
      ]
     },
     "execution_count": 4,
     "metadata": {},
     "output_type": "execute_result"
    }
   ],
   "source": [
    "heart_disease.variables"
   ]
  },
  {
   "cell_type": "markdown",
   "metadata": {},
   "source": [
    "Finally, the output data y can be inspected for further understanding of what the output can and should look like for the binary classifier."
   ]
  },
  {
   "cell_type": "markdown",
   "metadata": {},
   "source": [
    "*Note that it would be necessary to evaluate the qualityy of the dataset. For the sake of simplicity of this first project, this step will be skipped*"
   ]
  },
  {
   "cell_type": "markdown",
   "metadata": {},
   "source": [
    "### 3. Selecing Evaluation Metrics"
   ]
  },
  {
   "cell_type": "markdown",
   "metadata": {},
   "source": [
    "Evaluation metrics are used to get a better understanding of how good the binary classifier is at predicting heart diseases from a given input. The choice of the metrics depends on the project and what the goals are.\n",
    "In the case of this project, metrics for binary classifiers in supervised learning are used.\n",
    "\n",
    "For this first project, a confusion matrix will be used to evaluate the classifier.\n",
    "From the confusion matrix, various other metrics like accuracy, precision, recall and F1-score can be derived."
   ]
  },
  {
   "cell_type": "markdown",
   "metadata": {},
   "source": [
    "## 4. Data Preparation"
   ]
  },
  {
   "cell_type": "markdown",
   "metadata": {},
   "source": [
    "In this step, we prepare the data in order to train and test the data later. This includes various steps like cleaning/transforming the data and splitting it into training and testing data.\n",
    "\n",
    "For the heart disease dataset, we can take a look at the target variable y:"
   ]
  },
  {
   "cell_type": "code",
   "execution_count": 5,
   "metadata": {},
   "outputs": [
    {
     "data": {
      "text/plain": [
       "array([0, 2, 1, 3, 4])"
      ]
     },
     "execution_count": 5,
     "metadata": {},
     "output_type": "execute_result"
    }
   ],
   "source": [
    "y[\"num\"].unique()"
   ]
  },
  {
   "cell_type": "markdown",
   "metadata": {},
   "source": [
    "Here we can see that the target variable contains five different output values for differnet types of heart disease. In this project, a binary classification is implemented, which only differentiates between \"No Heart Disease\" as 0 and \"Hart Disease as 1. Therefore, we need to update the columns to account for that. We do that by first mergin X and y, then we can limit the classification to a binary classification like this:"
   ]
  },
  {
   "cell_type": "code",
   "execution_count": 3,
   "metadata": {},
   "outputs": [
    {
     "name": "stdout",
     "output_type": "stream",
     "text": [
      "<class 'pandas.core.frame.DataFrame'>\n",
      "RangeIndex: 303 entries, 0 to 302\n",
      "Data columns (total 14 columns):\n",
      " #   Column    Non-Null Count  Dtype  \n",
      "---  ------    --------------  -----  \n",
      " 0   age       303 non-null    int64  \n",
      " 1   sex       303 non-null    int64  \n",
      " 2   cp        303 non-null    int64  \n",
      " 3   trestbps  303 non-null    int64  \n",
      " 4   chol      303 non-null    int64  \n",
      " 5   fbs       303 non-null    int64  \n",
      " 6   restecg   303 non-null    int64  \n",
      " 7   thalach   303 non-null    int64  \n",
      " 8   exang     303 non-null    int64  \n",
      " 9   oldpeak   303 non-null    float64\n",
      " 10  slope     303 non-null    int64  \n",
      " 11  ca        299 non-null    float64\n",
      " 12  thal      301 non-null    float64\n",
      " 13  target    303 non-null    int64  \n",
      "dtypes: float64(3), int64(11)\n",
      "memory usage: 33.3 KB\n"
     ]
    }
   ],
   "source": [
    "df=pd.concat([X, y] , axis=1)\n",
    "df['target']=df[\"num\"].apply(lambda x: 0 if x==0 else 1)\n",
    "df.drop(\"num\", axis=1, inplace=True)\n",
    "df.info()"
   ]
  },
  {
   "cell_type": "markdown",
   "metadata": {},
   "source": [
    "Now we can look for missing values by looking at all the columns of the dataframe:"
   ]
  },
  {
   "cell_type": "code",
   "execution_count": 7,
   "metadata": {},
   "outputs": [
    {
     "data": {
      "application/vnd.microsoft.datawrangler.viewer.v0+json": {
       "columns": [
        {
         "name": "index",
         "rawType": "int64",
         "type": "integer"
        },
        {
         "name": "age",
         "rawType": "int64",
         "type": "integer"
        },
        {
         "name": "sex",
         "rawType": "int64",
         "type": "integer"
        },
        {
         "name": "cp",
         "rawType": "int64",
         "type": "integer"
        },
        {
         "name": "trestbps",
         "rawType": "int64",
         "type": "integer"
        },
        {
         "name": "chol",
         "rawType": "int64",
         "type": "integer"
        },
        {
         "name": "fbs",
         "rawType": "int64",
         "type": "integer"
        },
        {
         "name": "restecg",
         "rawType": "int64",
         "type": "integer"
        },
        {
         "name": "thalach",
         "rawType": "int64",
         "type": "integer"
        },
        {
         "name": "exang",
         "rawType": "int64",
         "type": "integer"
        },
        {
         "name": "oldpeak",
         "rawType": "float64",
         "type": "float"
        },
        {
         "name": "slope",
         "rawType": "int64",
         "type": "integer"
        },
        {
         "name": "ca",
         "rawType": "float64",
         "type": "float"
        },
        {
         "name": "thal",
         "rawType": "float64",
         "type": "float"
        },
        {
         "name": "target",
         "rawType": "int64",
         "type": "integer"
        }
       ],
       "conversionMethod": "pd.DataFrame",
       "ref": "a1476333-8f8a-470b-abbe-66b1795501c8",
       "rows": [
        [
         "0",
         "63",
         "1",
         "1",
         "145",
         "233",
         "1",
         "2",
         "150",
         "0",
         "2.3",
         "3",
         "0.0",
         "6.0",
         "0"
        ],
        [
         "1",
         "67",
         "1",
         "4",
         "160",
         "286",
         "0",
         "2",
         "108",
         "1",
         "1.5",
         "2",
         "3.0",
         "3.0",
         "1"
        ],
        [
         "2",
         "67",
         "1",
         "4",
         "120",
         "229",
         "0",
         "2",
         "129",
         "1",
         "2.6",
         "2",
         "2.0",
         "7.0",
         "1"
        ],
        [
         "3",
         "37",
         "1",
         "3",
         "130",
         "250",
         "0",
         "0",
         "187",
         "0",
         "3.5",
         "3",
         "0.0",
         "3.0",
         "0"
        ],
        [
         "4",
         "41",
         "0",
         "2",
         "130",
         "204",
         "0",
         "2",
         "172",
         "0",
         "1.4",
         "1",
         "0.0",
         "3.0",
         "0"
        ],
        [
         "5",
         "56",
         "1",
         "2",
         "120",
         "236",
         "0",
         "0",
         "178",
         "0",
         "0.8",
         "1",
         "0.0",
         "3.0",
         "0"
        ],
        [
         "6",
         "62",
         "0",
         "4",
         "140",
         "268",
         "0",
         "2",
         "160",
         "0",
         "3.6",
         "3",
         "2.0",
         "3.0",
         "1"
        ],
        [
         "7",
         "57",
         "0",
         "4",
         "120",
         "354",
         "0",
         "0",
         "163",
         "1",
         "0.6",
         "1",
         "0.0",
         "3.0",
         "0"
        ],
        [
         "8",
         "63",
         "1",
         "4",
         "130",
         "254",
         "0",
         "2",
         "147",
         "0",
         "1.4",
         "2",
         "1.0",
         "7.0",
         "1"
        ],
        [
         "9",
         "53",
         "1",
         "4",
         "140",
         "203",
         "1",
         "2",
         "155",
         "1",
         "3.1",
         "3",
         "0.0",
         "7.0",
         "1"
        ],
        [
         "10",
         "57",
         "1",
         "4",
         "140",
         "192",
         "0",
         "0",
         "148",
         "0",
         "0.4",
         "2",
         "0.0",
         "6.0",
         "0"
        ],
        [
         "11",
         "56",
         "0",
         "2",
         "140",
         "294",
         "0",
         "2",
         "153",
         "0",
         "1.3",
         "2",
         "0.0",
         "3.0",
         "0"
        ],
        [
         "12",
         "56",
         "1",
         "3",
         "130",
         "256",
         "1",
         "2",
         "142",
         "1",
         "0.6",
         "2",
         "1.0",
         "6.0",
         "1"
        ],
        [
         "13",
         "44",
         "1",
         "2",
         "120",
         "263",
         "0",
         "0",
         "173",
         "0",
         "0.0",
         "1",
         "0.0",
         "7.0",
         "0"
        ],
        [
         "14",
         "52",
         "1",
         "3",
         "172",
         "199",
         "1",
         "0",
         "162",
         "0",
         "0.5",
         "1",
         "0.0",
         "7.0",
         "0"
        ],
        [
         "15",
         "57",
         "1",
         "3",
         "150",
         "168",
         "0",
         "0",
         "174",
         "0",
         "1.6",
         "1",
         "0.0",
         "3.0",
         "0"
        ],
        [
         "16",
         "48",
         "1",
         "2",
         "110",
         "229",
         "0",
         "0",
         "168",
         "0",
         "1.0",
         "3",
         "0.0",
         "7.0",
         "1"
        ],
        [
         "17",
         "54",
         "1",
         "4",
         "140",
         "239",
         "0",
         "0",
         "160",
         "0",
         "1.2",
         "1",
         "0.0",
         "3.0",
         "0"
        ],
        [
         "18",
         "48",
         "0",
         "3",
         "130",
         "275",
         "0",
         "0",
         "139",
         "0",
         "0.2",
         "1",
         "0.0",
         "3.0",
         "0"
        ],
        [
         "19",
         "49",
         "1",
         "2",
         "130",
         "266",
         "0",
         "0",
         "171",
         "0",
         "0.6",
         "1",
         "0.0",
         "3.0",
         "0"
        ],
        [
         "20",
         "64",
         "1",
         "1",
         "110",
         "211",
         "0",
         "2",
         "144",
         "1",
         "1.8",
         "2",
         "0.0",
         "3.0",
         "0"
        ],
        [
         "21",
         "58",
         "0",
         "1",
         "150",
         "283",
         "1",
         "2",
         "162",
         "0",
         "1.0",
         "1",
         "0.0",
         "3.0",
         "0"
        ],
        [
         "22",
         "58",
         "1",
         "2",
         "120",
         "284",
         "0",
         "2",
         "160",
         "0",
         "1.8",
         "2",
         "0.0",
         "3.0",
         "1"
        ],
        [
         "23",
         "58",
         "1",
         "3",
         "132",
         "224",
         "0",
         "2",
         "173",
         "0",
         "3.2",
         "1",
         "2.0",
         "7.0",
         "1"
        ],
        [
         "24",
         "60",
         "1",
         "4",
         "130",
         "206",
         "0",
         "2",
         "132",
         "1",
         "2.4",
         "2",
         "2.0",
         "7.0",
         "1"
        ],
        [
         "25",
         "50",
         "0",
         "3",
         "120",
         "219",
         "0",
         "0",
         "158",
         "0",
         "1.6",
         "2",
         "0.0",
         "3.0",
         "0"
        ],
        [
         "26",
         "58",
         "0",
         "3",
         "120",
         "340",
         "0",
         "0",
         "172",
         "0",
         "0.0",
         "1",
         "0.0",
         "3.0",
         "0"
        ],
        [
         "27",
         "66",
         "0",
         "1",
         "150",
         "226",
         "0",
         "0",
         "114",
         "0",
         "2.6",
         "3",
         "0.0",
         "3.0",
         "0"
        ],
        [
         "28",
         "43",
         "1",
         "4",
         "150",
         "247",
         "0",
         "0",
         "171",
         "0",
         "1.5",
         "1",
         "0.0",
         "3.0",
         "0"
        ],
        [
         "29",
         "40",
         "1",
         "4",
         "110",
         "167",
         "0",
         "2",
         "114",
         "1",
         "2.0",
         "2",
         "0.0",
         "7.0",
         "1"
        ],
        [
         "30",
         "69",
         "0",
         "1",
         "140",
         "239",
         "0",
         "0",
         "151",
         "0",
         "1.8",
         "1",
         "2.0",
         "3.0",
         "0"
        ],
        [
         "31",
         "60",
         "1",
         "4",
         "117",
         "230",
         "1",
         "0",
         "160",
         "1",
         "1.4",
         "1",
         "2.0",
         "7.0",
         "1"
        ],
        [
         "32",
         "64",
         "1",
         "3",
         "140",
         "335",
         "0",
         "0",
         "158",
         "0",
         "0.0",
         "1",
         "0.0",
         "3.0",
         "1"
        ],
        [
         "33",
         "59",
         "1",
         "4",
         "135",
         "234",
         "0",
         "0",
         "161",
         "0",
         "0.5",
         "2",
         "0.0",
         "7.0",
         "0"
        ],
        [
         "34",
         "44",
         "1",
         "3",
         "130",
         "233",
         "0",
         "0",
         "179",
         "1",
         "0.4",
         "1",
         "0.0",
         "3.0",
         "0"
        ],
        [
         "35",
         "42",
         "1",
         "4",
         "140",
         "226",
         "0",
         "0",
         "178",
         "0",
         "0.0",
         "1",
         "0.0",
         "3.0",
         "0"
        ],
        [
         "36",
         "43",
         "1",
         "4",
         "120",
         "177",
         "0",
         "2",
         "120",
         "1",
         "2.5",
         "2",
         "0.0",
         "7.0",
         "1"
        ],
        [
         "37",
         "57",
         "1",
         "4",
         "150",
         "276",
         "0",
         "2",
         "112",
         "1",
         "0.6",
         "2",
         "1.0",
         "6.0",
         "1"
        ],
        [
         "38",
         "55",
         "1",
         "4",
         "132",
         "353",
         "0",
         "0",
         "132",
         "1",
         "1.2",
         "2",
         "1.0",
         "7.0",
         "1"
        ],
        [
         "39",
         "61",
         "1",
         "3",
         "150",
         "243",
         "1",
         "0",
         "137",
         "1",
         "1.0",
         "2",
         "0.0",
         "3.0",
         "0"
        ],
        [
         "40",
         "65",
         "0",
         "4",
         "150",
         "225",
         "0",
         "2",
         "114",
         "0",
         "1.0",
         "2",
         "3.0",
         "7.0",
         "1"
        ],
        [
         "41",
         "40",
         "1",
         "1",
         "140",
         "199",
         "0",
         "0",
         "178",
         "1",
         "1.4",
         "1",
         "0.0",
         "7.0",
         "0"
        ],
        [
         "42",
         "71",
         "0",
         "2",
         "160",
         "302",
         "0",
         "0",
         "162",
         "0",
         "0.4",
         "1",
         "2.0",
         "3.0",
         "0"
        ],
        [
         "43",
         "59",
         "1",
         "3",
         "150",
         "212",
         "1",
         "0",
         "157",
         "0",
         "1.6",
         "1",
         "0.0",
         "3.0",
         "0"
        ],
        [
         "44",
         "61",
         "0",
         "4",
         "130",
         "330",
         "0",
         "2",
         "169",
         "0",
         "0.0",
         "1",
         "0.0",
         "3.0",
         "1"
        ],
        [
         "45",
         "58",
         "1",
         "3",
         "112",
         "230",
         "0",
         "2",
         "165",
         "0",
         "2.5",
         "2",
         "1.0",
         "7.0",
         "1"
        ],
        [
         "46",
         "51",
         "1",
         "3",
         "110",
         "175",
         "0",
         "0",
         "123",
         "0",
         "0.6",
         "1",
         "0.0",
         "3.0",
         "0"
        ],
        [
         "47",
         "50",
         "1",
         "4",
         "150",
         "243",
         "0",
         "2",
         "128",
         "0",
         "2.6",
         "2",
         "0.0",
         "7.0",
         "1"
        ],
        [
         "48",
         "65",
         "0",
         "3",
         "140",
         "417",
         "1",
         "2",
         "157",
         "0",
         "0.8",
         "1",
         "1.0",
         "3.0",
         "0"
        ],
        [
         "49",
         "53",
         "1",
         "3",
         "130",
         "197",
         "1",
         "2",
         "152",
         "0",
         "1.2",
         "3",
         "0.0",
         "3.0",
         "0"
        ]
       ],
       "shape": {
        "columns": 14,
        "rows": 303
       }
      },
      "text/html": [
       "<div>\n",
       "<style scoped>\n",
       "    .dataframe tbody tr th:only-of-type {\n",
       "        vertical-align: middle;\n",
       "    }\n",
       "\n",
       "    .dataframe tbody tr th {\n",
       "        vertical-align: top;\n",
       "    }\n",
       "\n",
       "    .dataframe thead th {\n",
       "        text-align: right;\n",
       "    }\n",
       "</style>\n",
       "<table border=\"1\" class=\"dataframe\">\n",
       "  <thead>\n",
       "    <tr style=\"text-align: right;\">\n",
       "      <th></th>\n",
       "      <th>age</th>\n",
       "      <th>sex</th>\n",
       "      <th>cp</th>\n",
       "      <th>trestbps</th>\n",
       "      <th>chol</th>\n",
       "      <th>fbs</th>\n",
       "      <th>restecg</th>\n",
       "      <th>thalach</th>\n",
       "      <th>exang</th>\n",
       "      <th>oldpeak</th>\n",
       "      <th>slope</th>\n",
       "      <th>ca</th>\n",
       "      <th>thal</th>\n",
       "      <th>target</th>\n",
       "    </tr>\n",
       "  </thead>\n",
       "  <tbody>\n",
       "    <tr>\n",
       "      <th>0</th>\n",
       "      <td>63</td>\n",
       "      <td>1</td>\n",
       "      <td>1</td>\n",
       "      <td>145</td>\n",
       "      <td>233</td>\n",
       "      <td>1</td>\n",
       "      <td>2</td>\n",
       "      <td>150</td>\n",
       "      <td>0</td>\n",
       "      <td>2.3</td>\n",
       "      <td>3</td>\n",
       "      <td>0.0</td>\n",
       "      <td>6.0</td>\n",
       "      <td>0</td>\n",
       "    </tr>\n",
       "    <tr>\n",
       "      <th>1</th>\n",
       "      <td>67</td>\n",
       "      <td>1</td>\n",
       "      <td>4</td>\n",
       "      <td>160</td>\n",
       "      <td>286</td>\n",
       "      <td>0</td>\n",
       "      <td>2</td>\n",
       "      <td>108</td>\n",
       "      <td>1</td>\n",
       "      <td>1.5</td>\n",
       "      <td>2</td>\n",
       "      <td>3.0</td>\n",
       "      <td>3.0</td>\n",
       "      <td>1</td>\n",
       "    </tr>\n",
       "    <tr>\n",
       "      <th>2</th>\n",
       "      <td>67</td>\n",
       "      <td>1</td>\n",
       "      <td>4</td>\n",
       "      <td>120</td>\n",
       "      <td>229</td>\n",
       "      <td>0</td>\n",
       "      <td>2</td>\n",
       "      <td>129</td>\n",
       "      <td>1</td>\n",
       "      <td>2.6</td>\n",
       "      <td>2</td>\n",
       "      <td>2.0</td>\n",
       "      <td>7.0</td>\n",
       "      <td>1</td>\n",
       "    </tr>\n",
       "    <tr>\n",
       "      <th>3</th>\n",
       "      <td>37</td>\n",
       "      <td>1</td>\n",
       "      <td>3</td>\n",
       "      <td>130</td>\n",
       "      <td>250</td>\n",
       "      <td>0</td>\n",
       "      <td>0</td>\n",
       "      <td>187</td>\n",
       "      <td>0</td>\n",
       "      <td>3.5</td>\n",
       "      <td>3</td>\n",
       "      <td>0.0</td>\n",
       "      <td>3.0</td>\n",
       "      <td>0</td>\n",
       "    </tr>\n",
       "    <tr>\n",
       "      <th>4</th>\n",
       "      <td>41</td>\n",
       "      <td>0</td>\n",
       "      <td>2</td>\n",
       "      <td>130</td>\n",
       "      <td>204</td>\n",
       "      <td>0</td>\n",
       "      <td>2</td>\n",
       "      <td>172</td>\n",
       "      <td>0</td>\n",
       "      <td>1.4</td>\n",
       "      <td>1</td>\n",
       "      <td>0.0</td>\n",
       "      <td>3.0</td>\n",
       "      <td>0</td>\n",
       "    </tr>\n",
       "    <tr>\n",
       "      <th>...</th>\n",
       "      <td>...</td>\n",
       "      <td>...</td>\n",
       "      <td>...</td>\n",
       "      <td>...</td>\n",
       "      <td>...</td>\n",
       "      <td>...</td>\n",
       "      <td>...</td>\n",
       "      <td>...</td>\n",
       "      <td>...</td>\n",
       "      <td>...</td>\n",
       "      <td>...</td>\n",
       "      <td>...</td>\n",
       "      <td>...</td>\n",
       "      <td>...</td>\n",
       "    </tr>\n",
       "    <tr>\n",
       "      <th>298</th>\n",
       "      <td>45</td>\n",
       "      <td>1</td>\n",
       "      <td>1</td>\n",
       "      <td>110</td>\n",
       "      <td>264</td>\n",
       "      <td>0</td>\n",
       "      <td>0</td>\n",
       "      <td>132</td>\n",
       "      <td>0</td>\n",
       "      <td>1.2</td>\n",
       "      <td>2</td>\n",
       "      <td>0.0</td>\n",
       "      <td>7.0</td>\n",
       "      <td>1</td>\n",
       "    </tr>\n",
       "    <tr>\n",
       "      <th>299</th>\n",
       "      <td>68</td>\n",
       "      <td>1</td>\n",
       "      <td>4</td>\n",
       "      <td>144</td>\n",
       "      <td>193</td>\n",
       "      <td>1</td>\n",
       "      <td>0</td>\n",
       "      <td>141</td>\n",
       "      <td>0</td>\n",
       "      <td>3.4</td>\n",
       "      <td>2</td>\n",
       "      <td>2.0</td>\n",
       "      <td>7.0</td>\n",
       "      <td>1</td>\n",
       "    </tr>\n",
       "    <tr>\n",
       "      <th>300</th>\n",
       "      <td>57</td>\n",
       "      <td>1</td>\n",
       "      <td>4</td>\n",
       "      <td>130</td>\n",
       "      <td>131</td>\n",
       "      <td>0</td>\n",
       "      <td>0</td>\n",
       "      <td>115</td>\n",
       "      <td>1</td>\n",
       "      <td>1.2</td>\n",
       "      <td>2</td>\n",
       "      <td>1.0</td>\n",
       "      <td>7.0</td>\n",
       "      <td>1</td>\n",
       "    </tr>\n",
       "    <tr>\n",
       "      <th>301</th>\n",
       "      <td>57</td>\n",
       "      <td>0</td>\n",
       "      <td>2</td>\n",
       "      <td>130</td>\n",
       "      <td>236</td>\n",
       "      <td>0</td>\n",
       "      <td>2</td>\n",
       "      <td>174</td>\n",
       "      <td>0</td>\n",
       "      <td>0.0</td>\n",
       "      <td>2</td>\n",
       "      <td>1.0</td>\n",
       "      <td>3.0</td>\n",
       "      <td>1</td>\n",
       "    </tr>\n",
       "    <tr>\n",
       "      <th>302</th>\n",
       "      <td>38</td>\n",
       "      <td>1</td>\n",
       "      <td>3</td>\n",
       "      <td>138</td>\n",
       "      <td>175</td>\n",
       "      <td>0</td>\n",
       "      <td>0</td>\n",
       "      <td>173</td>\n",
       "      <td>0</td>\n",
       "      <td>0.0</td>\n",
       "      <td>1</td>\n",
       "      <td>NaN</td>\n",
       "      <td>3.0</td>\n",
       "      <td>0</td>\n",
       "    </tr>\n",
       "  </tbody>\n",
       "</table>\n",
       "<p>303 rows × 14 columns</p>\n",
       "</div>"
      ],
      "text/plain": [
       "     age  sex  cp  trestbps  chol  fbs  restecg  thalach  exang  oldpeak  \\\n",
       "0     63    1   1       145   233    1        2      150      0      2.3   \n",
       "1     67    1   4       160   286    0        2      108      1      1.5   \n",
       "2     67    1   4       120   229    0        2      129      1      2.6   \n",
       "3     37    1   3       130   250    0        0      187      0      3.5   \n",
       "4     41    0   2       130   204    0        2      172      0      1.4   \n",
       "..   ...  ...  ..       ...   ...  ...      ...      ...    ...      ...   \n",
       "298   45    1   1       110   264    0        0      132      0      1.2   \n",
       "299   68    1   4       144   193    1        0      141      0      3.4   \n",
       "300   57    1   4       130   131    0        0      115      1      1.2   \n",
       "301   57    0   2       130   236    0        2      174      0      0.0   \n",
       "302   38    1   3       138   175    0        0      173      0      0.0   \n",
       "\n",
       "     slope   ca  thal  target  \n",
       "0        3  0.0   6.0       0  \n",
       "1        2  3.0   3.0       1  \n",
       "2        2  2.0   7.0       1  \n",
       "3        3  0.0   3.0       0  \n",
       "4        1  0.0   3.0       0  \n",
       "..     ...  ...   ...     ...  \n",
       "298      2  0.0   7.0       1  \n",
       "299      2  2.0   7.0       1  \n",
       "300      2  1.0   7.0       1  \n",
       "301      2  1.0   3.0       1  \n",
       "302      1  NaN   3.0       0  \n",
       "\n",
       "[303 rows x 14 columns]"
      ]
     },
     "execution_count": 7,
     "metadata": {},
     "output_type": "execute_result"
    }
   ],
   "source": [
    "df"
   ]
  },
  {
   "cell_type": "markdown",
   "metadata": {},
   "source": [
    "The `ca`column aswell as the `thal` column contain missing values for a few rows, This can be seen using the isna() function of pandas."
   ]
  },
  {
   "cell_type": "code",
   "execution_count": 8,
   "metadata": {},
   "outputs": [
    {
     "data": {
      "application/vnd.microsoft.datawrangler.viewer.v0+json": {
       "columns": [
        {
         "name": "index",
         "rawType": "int64",
         "type": "integer"
        },
        {
         "name": "age",
         "rawType": "int64",
         "type": "integer"
        },
        {
         "name": "sex",
         "rawType": "int64",
         "type": "integer"
        },
        {
         "name": "cp",
         "rawType": "int64",
         "type": "integer"
        },
        {
         "name": "trestbps",
         "rawType": "int64",
         "type": "integer"
        },
        {
         "name": "chol",
         "rawType": "int64",
         "type": "integer"
        },
        {
         "name": "fbs",
         "rawType": "int64",
         "type": "integer"
        },
        {
         "name": "restecg",
         "rawType": "int64",
         "type": "integer"
        },
        {
         "name": "thalach",
         "rawType": "int64",
         "type": "integer"
        },
        {
         "name": "exang",
         "rawType": "int64",
         "type": "integer"
        },
        {
         "name": "oldpeak",
         "rawType": "float64",
         "type": "float"
        },
        {
         "name": "slope",
         "rawType": "int64",
         "type": "integer"
        },
        {
         "name": "ca",
         "rawType": "float64",
         "type": "float"
        },
        {
         "name": "thal",
         "rawType": "float64",
         "type": "float"
        },
        {
         "name": "target",
         "rawType": "int64",
         "type": "integer"
        }
       ],
       "conversionMethod": "pd.DataFrame",
       "ref": "56f2dec3-7da1-4ee2-8092-c6c32ef17cff",
       "rows": [
        [
         "166",
         "52",
         "1",
         "3",
         "138",
         "223",
         "0",
         "0",
         "169",
         "0",
         "0.0",
         "1",
         null,
         "3.0",
         "0"
        ],
        [
         "192",
         "43",
         "1",
         "4",
         "132",
         "247",
         "1",
         "2",
         "143",
         "1",
         "0.1",
         "2",
         null,
         "7.0",
         "1"
        ],
        [
         "287",
         "58",
         "1",
         "2",
         "125",
         "220",
         "0",
         "0",
         "144",
         "0",
         "0.4",
         "2",
         null,
         "7.0",
         "0"
        ],
        [
         "302",
         "38",
         "1",
         "3",
         "138",
         "175",
         "0",
         "0",
         "173",
         "0",
         "0.0",
         "1",
         null,
         "3.0",
         "0"
        ]
       ],
       "shape": {
        "columns": 14,
        "rows": 4
       }
      },
      "text/html": [
       "<div>\n",
       "<style scoped>\n",
       "    .dataframe tbody tr th:only-of-type {\n",
       "        vertical-align: middle;\n",
       "    }\n",
       "\n",
       "    .dataframe tbody tr th {\n",
       "        vertical-align: top;\n",
       "    }\n",
       "\n",
       "    .dataframe thead th {\n",
       "        text-align: right;\n",
       "    }\n",
       "</style>\n",
       "<table border=\"1\" class=\"dataframe\">\n",
       "  <thead>\n",
       "    <tr style=\"text-align: right;\">\n",
       "      <th></th>\n",
       "      <th>age</th>\n",
       "      <th>sex</th>\n",
       "      <th>cp</th>\n",
       "      <th>trestbps</th>\n",
       "      <th>chol</th>\n",
       "      <th>fbs</th>\n",
       "      <th>restecg</th>\n",
       "      <th>thalach</th>\n",
       "      <th>exang</th>\n",
       "      <th>oldpeak</th>\n",
       "      <th>slope</th>\n",
       "      <th>ca</th>\n",
       "      <th>thal</th>\n",
       "      <th>target</th>\n",
       "    </tr>\n",
       "  </thead>\n",
       "  <tbody>\n",
       "    <tr>\n",
       "      <th>166</th>\n",
       "      <td>52</td>\n",
       "      <td>1</td>\n",
       "      <td>3</td>\n",
       "      <td>138</td>\n",
       "      <td>223</td>\n",
       "      <td>0</td>\n",
       "      <td>0</td>\n",
       "      <td>169</td>\n",
       "      <td>0</td>\n",
       "      <td>0.0</td>\n",
       "      <td>1</td>\n",
       "      <td>NaN</td>\n",
       "      <td>3.0</td>\n",
       "      <td>0</td>\n",
       "    </tr>\n",
       "    <tr>\n",
       "      <th>192</th>\n",
       "      <td>43</td>\n",
       "      <td>1</td>\n",
       "      <td>4</td>\n",
       "      <td>132</td>\n",
       "      <td>247</td>\n",
       "      <td>1</td>\n",
       "      <td>2</td>\n",
       "      <td>143</td>\n",
       "      <td>1</td>\n",
       "      <td>0.1</td>\n",
       "      <td>2</td>\n",
       "      <td>NaN</td>\n",
       "      <td>7.0</td>\n",
       "      <td>1</td>\n",
       "    </tr>\n",
       "    <tr>\n",
       "      <th>287</th>\n",
       "      <td>58</td>\n",
       "      <td>1</td>\n",
       "      <td>2</td>\n",
       "      <td>125</td>\n",
       "      <td>220</td>\n",
       "      <td>0</td>\n",
       "      <td>0</td>\n",
       "      <td>144</td>\n",
       "      <td>0</td>\n",
       "      <td>0.4</td>\n",
       "      <td>2</td>\n",
       "      <td>NaN</td>\n",
       "      <td>7.0</td>\n",
       "      <td>0</td>\n",
       "    </tr>\n",
       "    <tr>\n",
       "      <th>302</th>\n",
       "      <td>38</td>\n",
       "      <td>1</td>\n",
       "      <td>3</td>\n",
       "      <td>138</td>\n",
       "      <td>175</td>\n",
       "      <td>0</td>\n",
       "      <td>0</td>\n",
       "      <td>173</td>\n",
       "      <td>0</td>\n",
       "      <td>0.0</td>\n",
       "      <td>1</td>\n",
       "      <td>NaN</td>\n",
       "      <td>3.0</td>\n",
       "      <td>0</td>\n",
       "    </tr>\n",
       "  </tbody>\n",
       "</table>\n",
       "</div>"
      ],
      "text/plain": [
       "     age  sex  cp  trestbps  chol  fbs  restecg  thalach  exang  oldpeak  \\\n",
       "166   52    1   3       138   223    0        0      169      0      0.0   \n",
       "192   43    1   4       132   247    1        2      143      1      0.1   \n",
       "287   58    1   2       125   220    0        0      144      0      0.4   \n",
       "302   38    1   3       138   175    0        0      173      0      0.0   \n",
       "\n",
       "     slope  ca  thal  target  \n",
       "166      1 NaN   3.0       0  \n",
       "192      2 NaN   7.0       1  \n",
       "287      2 NaN   7.0       0  \n",
       "302      1 NaN   3.0       0  "
      ]
     },
     "execution_count": 8,
     "metadata": {},
     "output_type": "execute_result"
    }
   ],
   "source": [
    "df[df['ca'].isna()]"
   ]
  },
  {
   "cell_type": "code",
   "execution_count": 9,
   "metadata": {},
   "outputs": [
    {
     "data": {
      "application/vnd.microsoft.datawrangler.viewer.v0+json": {
       "columns": [
        {
         "name": "index",
         "rawType": "int64",
         "type": "integer"
        },
        {
         "name": "age",
         "rawType": "int64",
         "type": "integer"
        },
        {
         "name": "sex",
         "rawType": "int64",
         "type": "integer"
        },
        {
         "name": "cp",
         "rawType": "int64",
         "type": "integer"
        },
        {
         "name": "trestbps",
         "rawType": "int64",
         "type": "integer"
        },
        {
         "name": "chol",
         "rawType": "int64",
         "type": "integer"
        },
        {
         "name": "fbs",
         "rawType": "int64",
         "type": "integer"
        },
        {
         "name": "restecg",
         "rawType": "int64",
         "type": "integer"
        },
        {
         "name": "thalach",
         "rawType": "int64",
         "type": "integer"
        },
        {
         "name": "exang",
         "rawType": "int64",
         "type": "integer"
        },
        {
         "name": "oldpeak",
         "rawType": "float64",
         "type": "float"
        },
        {
         "name": "slope",
         "rawType": "int64",
         "type": "integer"
        },
        {
         "name": "ca",
         "rawType": "float64",
         "type": "float"
        },
        {
         "name": "thal",
         "rawType": "float64",
         "type": "float"
        },
        {
         "name": "target",
         "rawType": "int64",
         "type": "integer"
        }
       ],
       "conversionMethod": "pd.DataFrame",
       "ref": "c21f9879-9dcb-4fa6-9973-58cc459817a1",
       "rows": [
        [
         "87",
         "53",
         "0",
         "3",
         "128",
         "216",
         "0",
         "2",
         "115",
         "0",
         "0.0",
         "1",
         "0.0",
         null,
         "0"
        ],
        [
         "266",
         "52",
         "1",
         "4",
         "128",
         "204",
         "1",
         "0",
         "156",
         "1",
         "1.0",
         "2",
         "0.0",
         null,
         "1"
        ]
       ],
       "shape": {
        "columns": 14,
        "rows": 2
       }
      },
      "text/html": [
       "<div>\n",
       "<style scoped>\n",
       "    .dataframe tbody tr th:only-of-type {\n",
       "        vertical-align: middle;\n",
       "    }\n",
       "\n",
       "    .dataframe tbody tr th {\n",
       "        vertical-align: top;\n",
       "    }\n",
       "\n",
       "    .dataframe thead th {\n",
       "        text-align: right;\n",
       "    }\n",
       "</style>\n",
       "<table border=\"1\" class=\"dataframe\">\n",
       "  <thead>\n",
       "    <tr style=\"text-align: right;\">\n",
       "      <th></th>\n",
       "      <th>age</th>\n",
       "      <th>sex</th>\n",
       "      <th>cp</th>\n",
       "      <th>trestbps</th>\n",
       "      <th>chol</th>\n",
       "      <th>fbs</th>\n",
       "      <th>restecg</th>\n",
       "      <th>thalach</th>\n",
       "      <th>exang</th>\n",
       "      <th>oldpeak</th>\n",
       "      <th>slope</th>\n",
       "      <th>ca</th>\n",
       "      <th>thal</th>\n",
       "      <th>target</th>\n",
       "    </tr>\n",
       "  </thead>\n",
       "  <tbody>\n",
       "    <tr>\n",
       "      <th>87</th>\n",
       "      <td>53</td>\n",
       "      <td>0</td>\n",
       "      <td>3</td>\n",
       "      <td>128</td>\n",
       "      <td>216</td>\n",
       "      <td>0</td>\n",
       "      <td>2</td>\n",
       "      <td>115</td>\n",
       "      <td>0</td>\n",
       "      <td>0.0</td>\n",
       "      <td>1</td>\n",
       "      <td>0.0</td>\n",
       "      <td>NaN</td>\n",
       "      <td>0</td>\n",
       "    </tr>\n",
       "    <tr>\n",
       "      <th>266</th>\n",
       "      <td>52</td>\n",
       "      <td>1</td>\n",
       "      <td>4</td>\n",
       "      <td>128</td>\n",
       "      <td>204</td>\n",
       "      <td>1</td>\n",
       "      <td>0</td>\n",
       "      <td>156</td>\n",
       "      <td>1</td>\n",
       "      <td>1.0</td>\n",
       "      <td>2</td>\n",
       "      <td>0.0</td>\n",
       "      <td>NaN</td>\n",
       "      <td>1</td>\n",
       "    </tr>\n",
       "  </tbody>\n",
       "</table>\n",
       "</div>"
      ],
      "text/plain": [
       "     age  sex  cp  trestbps  chol  fbs  restecg  thalach  exang  oldpeak  \\\n",
       "87    53    0   3       128   216    0        2      115      0      0.0   \n",
       "266   52    1   4       128   204    1        0      156      1      1.0   \n",
       "\n",
       "     slope   ca  thal  target  \n",
       "87       1  0.0   NaN       0  \n",
       "266      2  0.0   NaN       1  "
      ]
     },
     "execution_count": 9,
     "metadata": {},
     "output_type": "execute_result"
    }
   ],
   "source": [
    "df[df['thal'].isna()]"
   ]
  },
  {
   "cell_type": "markdown",
   "metadata": {},
   "source": [
    "Those rows need to be removed before any further steps are taken. This can be done easily using the dropna() function of pandas:"
   ]
  },
  {
   "cell_type": "code",
   "execution_count": 4,
   "metadata": {},
   "outputs": [
    {
     "name": "stdout",
     "output_type": "stream",
     "text": [
      "<class 'pandas.core.frame.DataFrame'>\n",
      "Index: 297 entries, 0 to 301\n",
      "Data columns (total 14 columns):\n",
      " #   Column    Non-Null Count  Dtype  \n",
      "---  ------    --------------  -----  \n",
      " 0   age       297 non-null    int64  \n",
      " 1   sex       297 non-null    int64  \n",
      " 2   cp        297 non-null    int64  \n",
      " 3   trestbps  297 non-null    int64  \n",
      " 4   chol      297 non-null    int64  \n",
      " 5   fbs       297 non-null    int64  \n",
      " 6   restecg   297 non-null    int64  \n",
      " 7   thalach   297 non-null    int64  \n",
      " 8   exang     297 non-null    int64  \n",
      " 9   oldpeak   297 non-null    float64\n",
      " 10  slope     297 non-null    int64  \n",
      " 11  ca        297 non-null    float64\n",
      " 12  thal      297 non-null    float64\n",
      " 13  target    297 non-null    int64  \n",
      "dtypes: float64(3), int64(11)\n",
      "memory usage: 34.8 KB\n"
     ]
    }
   ],
   "source": [
    "df.dropna(inplace=True)\n",
    "df.info()"
   ]
  },
  {
   "cell_type": "markdown",
   "metadata": {},
   "source": [
    "Now that the data is cleaned, we can split the into X and y again and then further split them into train and test data"
   ]
  },
  {
   "cell_type": "code",
   "execution_count": 5,
   "metadata": {},
   "outputs": [],
   "source": [
    "X = df.drop(\"target\", axis=1)\n",
    "y = df[\"target\"]\n",
    "X_train, X_test, y_train, y_test = train_test_split(X, y, test_size=0.2, random_state=1234)"
   ]
  },
  {
   "cell_type": "markdown",
   "metadata": {},
   "source": [
    "**Question**: *Wait! Before you look at the data any further, you need to create a test set, put it aside, and never look at it.*\n",
    "*Why should you do this at this stage?*\n",
    "> **Answer**: The purpose of the testing data is to validate a models performance after training. When testing data is already known during training, the resulting models performance on the testing is skewed because the model has already seen the data and is therefore biased."
   ]
  },
  {
   "cell_type": "markdown",
   "metadata": {},
   "source": [
    "## 5. Model Selection, Training and Evaluation"
   ]
  },
  {
   "cell_type": "markdown",
   "metadata": {},
   "source": [
    "In this step, a model is selected depending on the use case and type of project. In this case, a model for binary classification needs to be selected. For the sake of simplicity, we first start with a Random forest classifier as the first baseline. This can be done easily using sklearn, which already implements a Random forest classifier. First, we need to create the classifier as follows:"
   ]
  },
  {
   "cell_type": "code",
   "execution_count": 12,
   "metadata": {},
   "outputs": [
    {
     "data": {
      "text/plain": [
       "{'bootstrap': True,\n",
       " 'ccp_alpha': 0.0,\n",
       " 'class_weight': None,\n",
       " 'criterion': 'gini',\n",
       " 'max_depth': None,\n",
       " 'max_features': 'sqrt',\n",
       " 'max_leaf_nodes': None,\n",
       " 'max_samples': None,\n",
       " 'min_impurity_decrease': 0.0,\n",
       " 'min_samples_leaf': 1,\n",
       " 'min_samples_split': 2,\n",
       " 'min_weight_fraction_leaf': 0.0,\n",
       " 'monotonic_cst': None,\n",
       " 'n_estimators': 100,\n",
       " 'n_jobs': None,\n",
       " 'oob_score': False,\n",
       " 'random_state': None,\n",
       " 'verbose': 0,\n",
       " 'warm_start': False}"
      ]
     },
     "execution_count": 12,
     "metadata": {},
     "output_type": "execute_result"
    }
   ],
   "source": [
    "classifier_rf = RandomForestClassifier() # Create classifier, optionally adjust hyperparameters\n",
    "classifier_rf.get_params() # inspect params after instantiation"
   ]
  },
  {
   "cell_type": "markdown",
   "metadata": {},
   "source": [
    "Now we can train the classifier on the training data that was prepared beforehand:"
   ]
  },
  {
   "cell_type": "code",
   "execution_count": 13,
   "metadata": {},
   "outputs": [
    {
     "data": {
      "text/html": [
       "<style>#sk-container-id-1 {\n",
       "  /* Definition of color scheme common for light and dark mode */\n",
       "  --sklearn-color-text: #000;\n",
       "  --sklearn-color-text-muted: #666;\n",
       "  --sklearn-color-line: gray;\n",
       "  /* Definition of color scheme for unfitted estimators */\n",
       "  --sklearn-color-unfitted-level-0: #fff5e6;\n",
       "  --sklearn-color-unfitted-level-1: #f6e4d2;\n",
       "  --sklearn-color-unfitted-level-2: #ffe0b3;\n",
       "  --sklearn-color-unfitted-level-3: chocolate;\n",
       "  /* Definition of color scheme for fitted estimators */\n",
       "  --sklearn-color-fitted-level-0: #f0f8ff;\n",
       "  --sklearn-color-fitted-level-1: #d4ebff;\n",
       "  --sklearn-color-fitted-level-2: #b3dbfd;\n",
       "  --sklearn-color-fitted-level-3: cornflowerblue;\n",
       "\n",
       "  /* Specific color for light theme */\n",
       "  --sklearn-color-text-on-default-background: var(--sg-text-color, var(--theme-code-foreground, var(--jp-content-font-color1, black)));\n",
       "  --sklearn-color-background: var(--sg-background-color, var(--theme-background, var(--jp-layout-color0, white)));\n",
       "  --sklearn-color-border-box: var(--sg-text-color, var(--theme-code-foreground, var(--jp-content-font-color1, black)));\n",
       "  --sklearn-color-icon: #696969;\n",
       "\n",
       "  @media (prefers-color-scheme: dark) {\n",
       "    /* Redefinition of color scheme for dark theme */\n",
       "    --sklearn-color-text-on-default-background: var(--sg-text-color, var(--theme-code-foreground, var(--jp-content-font-color1, white)));\n",
       "    --sklearn-color-background: var(--sg-background-color, var(--theme-background, var(--jp-layout-color0, #111)));\n",
       "    --sklearn-color-border-box: var(--sg-text-color, var(--theme-code-foreground, var(--jp-content-font-color1, white)));\n",
       "    --sklearn-color-icon: #878787;\n",
       "  }\n",
       "}\n",
       "\n",
       "#sk-container-id-1 {\n",
       "  color: var(--sklearn-color-text);\n",
       "}\n",
       "\n",
       "#sk-container-id-1 pre {\n",
       "  padding: 0;\n",
       "}\n",
       "\n",
       "#sk-container-id-1 input.sk-hidden--visually {\n",
       "  border: 0;\n",
       "  clip: rect(1px 1px 1px 1px);\n",
       "  clip: rect(1px, 1px, 1px, 1px);\n",
       "  height: 1px;\n",
       "  margin: -1px;\n",
       "  overflow: hidden;\n",
       "  padding: 0;\n",
       "  position: absolute;\n",
       "  width: 1px;\n",
       "}\n",
       "\n",
       "#sk-container-id-1 div.sk-dashed-wrapped {\n",
       "  border: 1px dashed var(--sklearn-color-line);\n",
       "  margin: 0 0.4em 0.5em 0.4em;\n",
       "  box-sizing: border-box;\n",
       "  padding-bottom: 0.4em;\n",
       "  background-color: var(--sklearn-color-background);\n",
       "}\n",
       "\n",
       "#sk-container-id-1 div.sk-container {\n",
       "  /* jupyter's `normalize.less` sets `[hidden] { display: none; }`\n",
       "     but bootstrap.min.css set `[hidden] { display: none !important; }`\n",
       "     so we also need the `!important` here to be able to override the\n",
       "     default hidden behavior on the sphinx rendered scikit-learn.org.\n",
       "     See: https://github.com/scikit-learn/scikit-learn/issues/21755 */\n",
       "  display: inline-block !important;\n",
       "  position: relative;\n",
       "}\n",
       "\n",
       "#sk-container-id-1 div.sk-text-repr-fallback {\n",
       "  display: none;\n",
       "}\n",
       "\n",
       "div.sk-parallel-item,\n",
       "div.sk-serial,\n",
       "div.sk-item {\n",
       "  /* draw centered vertical line to link estimators */\n",
       "  background-image: linear-gradient(var(--sklearn-color-text-on-default-background), var(--sklearn-color-text-on-default-background));\n",
       "  background-size: 2px 100%;\n",
       "  background-repeat: no-repeat;\n",
       "  background-position: center center;\n",
       "}\n",
       "\n",
       "/* Parallel-specific style estimator block */\n",
       "\n",
       "#sk-container-id-1 div.sk-parallel-item::after {\n",
       "  content: \"\";\n",
       "  width: 100%;\n",
       "  border-bottom: 2px solid var(--sklearn-color-text-on-default-background);\n",
       "  flex-grow: 1;\n",
       "}\n",
       "\n",
       "#sk-container-id-1 div.sk-parallel {\n",
       "  display: flex;\n",
       "  align-items: stretch;\n",
       "  justify-content: center;\n",
       "  background-color: var(--sklearn-color-background);\n",
       "  position: relative;\n",
       "}\n",
       "\n",
       "#sk-container-id-1 div.sk-parallel-item {\n",
       "  display: flex;\n",
       "  flex-direction: column;\n",
       "}\n",
       "\n",
       "#sk-container-id-1 div.sk-parallel-item:first-child::after {\n",
       "  align-self: flex-end;\n",
       "  width: 50%;\n",
       "}\n",
       "\n",
       "#sk-container-id-1 div.sk-parallel-item:last-child::after {\n",
       "  align-self: flex-start;\n",
       "  width: 50%;\n",
       "}\n",
       "\n",
       "#sk-container-id-1 div.sk-parallel-item:only-child::after {\n",
       "  width: 0;\n",
       "}\n",
       "\n",
       "/* Serial-specific style estimator block */\n",
       "\n",
       "#sk-container-id-1 div.sk-serial {\n",
       "  display: flex;\n",
       "  flex-direction: column;\n",
       "  align-items: center;\n",
       "  background-color: var(--sklearn-color-background);\n",
       "  padding-right: 1em;\n",
       "  padding-left: 1em;\n",
       "}\n",
       "\n",
       "\n",
       "/* Toggleable style: style used for estimator/Pipeline/ColumnTransformer box that is\n",
       "clickable and can be expanded/collapsed.\n",
       "- Pipeline and ColumnTransformer use this feature and define the default style\n",
       "- Estimators will overwrite some part of the style using the `sk-estimator` class\n",
       "*/\n",
       "\n",
       "/* Pipeline and ColumnTransformer style (default) */\n",
       "\n",
       "#sk-container-id-1 div.sk-toggleable {\n",
       "  /* Default theme specific background. It is overwritten whether we have a\n",
       "  specific estimator or a Pipeline/ColumnTransformer */\n",
       "  background-color: var(--sklearn-color-background);\n",
       "}\n",
       "\n",
       "/* Toggleable label */\n",
       "#sk-container-id-1 label.sk-toggleable__label {\n",
       "  cursor: pointer;\n",
       "  display: flex;\n",
       "  width: 100%;\n",
       "  margin-bottom: 0;\n",
       "  padding: 0.5em;\n",
       "  box-sizing: border-box;\n",
       "  text-align: center;\n",
       "  align-items: start;\n",
       "  justify-content: space-between;\n",
       "  gap: 0.5em;\n",
       "}\n",
       "\n",
       "#sk-container-id-1 label.sk-toggleable__label .caption {\n",
       "  font-size: 0.6rem;\n",
       "  font-weight: lighter;\n",
       "  color: var(--sklearn-color-text-muted);\n",
       "}\n",
       "\n",
       "#sk-container-id-1 label.sk-toggleable__label-arrow:before {\n",
       "  /* Arrow on the left of the label */\n",
       "  content: \"▸\";\n",
       "  float: left;\n",
       "  margin-right: 0.25em;\n",
       "  color: var(--sklearn-color-icon);\n",
       "}\n",
       "\n",
       "#sk-container-id-1 label.sk-toggleable__label-arrow:hover:before {\n",
       "  color: var(--sklearn-color-text);\n",
       "}\n",
       "\n",
       "/* Toggleable content - dropdown */\n",
       "\n",
       "#sk-container-id-1 div.sk-toggleable__content {\n",
       "  max-height: 0;\n",
       "  max-width: 0;\n",
       "  overflow: hidden;\n",
       "  text-align: left;\n",
       "  /* unfitted */\n",
       "  background-color: var(--sklearn-color-unfitted-level-0);\n",
       "}\n",
       "\n",
       "#sk-container-id-1 div.sk-toggleable__content.fitted {\n",
       "  /* fitted */\n",
       "  background-color: var(--sklearn-color-fitted-level-0);\n",
       "}\n",
       "\n",
       "#sk-container-id-1 div.sk-toggleable__content pre {\n",
       "  margin: 0.2em;\n",
       "  border-radius: 0.25em;\n",
       "  color: var(--sklearn-color-text);\n",
       "  /* unfitted */\n",
       "  background-color: var(--sklearn-color-unfitted-level-0);\n",
       "}\n",
       "\n",
       "#sk-container-id-1 div.sk-toggleable__content.fitted pre {\n",
       "  /* unfitted */\n",
       "  background-color: var(--sklearn-color-fitted-level-0);\n",
       "}\n",
       "\n",
       "#sk-container-id-1 input.sk-toggleable__control:checked~div.sk-toggleable__content {\n",
       "  /* Expand drop-down */\n",
       "  max-height: 200px;\n",
       "  max-width: 100%;\n",
       "  overflow: auto;\n",
       "}\n",
       "\n",
       "#sk-container-id-1 input.sk-toggleable__control:checked~label.sk-toggleable__label-arrow:before {\n",
       "  content: \"▾\";\n",
       "}\n",
       "\n",
       "/* Pipeline/ColumnTransformer-specific style */\n",
       "\n",
       "#sk-container-id-1 div.sk-label input.sk-toggleable__control:checked~label.sk-toggleable__label {\n",
       "  color: var(--sklearn-color-text);\n",
       "  background-color: var(--sklearn-color-unfitted-level-2);\n",
       "}\n",
       "\n",
       "#sk-container-id-1 div.sk-label.fitted input.sk-toggleable__control:checked~label.sk-toggleable__label {\n",
       "  background-color: var(--sklearn-color-fitted-level-2);\n",
       "}\n",
       "\n",
       "/* Estimator-specific style */\n",
       "\n",
       "/* Colorize estimator box */\n",
       "#sk-container-id-1 div.sk-estimator input.sk-toggleable__control:checked~label.sk-toggleable__label {\n",
       "  /* unfitted */\n",
       "  background-color: var(--sklearn-color-unfitted-level-2);\n",
       "}\n",
       "\n",
       "#sk-container-id-1 div.sk-estimator.fitted input.sk-toggleable__control:checked~label.sk-toggleable__label {\n",
       "  /* fitted */\n",
       "  background-color: var(--sklearn-color-fitted-level-2);\n",
       "}\n",
       "\n",
       "#sk-container-id-1 div.sk-label label.sk-toggleable__label,\n",
       "#sk-container-id-1 div.sk-label label {\n",
       "  /* The background is the default theme color */\n",
       "  color: var(--sklearn-color-text-on-default-background);\n",
       "}\n",
       "\n",
       "/* On hover, darken the color of the background */\n",
       "#sk-container-id-1 div.sk-label:hover label.sk-toggleable__label {\n",
       "  color: var(--sklearn-color-text);\n",
       "  background-color: var(--sklearn-color-unfitted-level-2);\n",
       "}\n",
       "\n",
       "/* Label box, darken color on hover, fitted */\n",
       "#sk-container-id-1 div.sk-label.fitted:hover label.sk-toggleable__label.fitted {\n",
       "  color: var(--sklearn-color-text);\n",
       "  background-color: var(--sklearn-color-fitted-level-2);\n",
       "}\n",
       "\n",
       "/* Estimator label */\n",
       "\n",
       "#sk-container-id-1 div.sk-label label {\n",
       "  font-family: monospace;\n",
       "  font-weight: bold;\n",
       "  display: inline-block;\n",
       "  line-height: 1.2em;\n",
       "}\n",
       "\n",
       "#sk-container-id-1 div.sk-label-container {\n",
       "  text-align: center;\n",
       "}\n",
       "\n",
       "/* Estimator-specific */\n",
       "#sk-container-id-1 div.sk-estimator {\n",
       "  font-family: monospace;\n",
       "  border: 1px dotted var(--sklearn-color-border-box);\n",
       "  border-radius: 0.25em;\n",
       "  box-sizing: border-box;\n",
       "  margin-bottom: 0.5em;\n",
       "  /* unfitted */\n",
       "  background-color: var(--sklearn-color-unfitted-level-0);\n",
       "}\n",
       "\n",
       "#sk-container-id-1 div.sk-estimator.fitted {\n",
       "  /* fitted */\n",
       "  background-color: var(--sklearn-color-fitted-level-0);\n",
       "}\n",
       "\n",
       "/* on hover */\n",
       "#sk-container-id-1 div.sk-estimator:hover {\n",
       "  /* unfitted */\n",
       "  background-color: var(--sklearn-color-unfitted-level-2);\n",
       "}\n",
       "\n",
       "#sk-container-id-1 div.sk-estimator.fitted:hover {\n",
       "  /* fitted */\n",
       "  background-color: var(--sklearn-color-fitted-level-2);\n",
       "}\n",
       "\n",
       "/* Specification for estimator info (e.g. \"i\" and \"?\") */\n",
       "\n",
       "/* Common style for \"i\" and \"?\" */\n",
       "\n",
       ".sk-estimator-doc-link,\n",
       "a:link.sk-estimator-doc-link,\n",
       "a:visited.sk-estimator-doc-link {\n",
       "  float: right;\n",
       "  font-size: smaller;\n",
       "  line-height: 1em;\n",
       "  font-family: monospace;\n",
       "  background-color: var(--sklearn-color-background);\n",
       "  border-radius: 1em;\n",
       "  height: 1em;\n",
       "  width: 1em;\n",
       "  text-decoration: none !important;\n",
       "  margin-left: 0.5em;\n",
       "  text-align: center;\n",
       "  /* unfitted */\n",
       "  border: var(--sklearn-color-unfitted-level-1) 1pt solid;\n",
       "  color: var(--sklearn-color-unfitted-level-1);\n",
       "}\n",
       "\n",
       ".sk-estimator-doc-link.fitted,\n",
       "a:link.sk-estimator-doc-link.fitted,\n",
       "a:visited.sk-estimator-doc-link.fitted {\n",
       "  /* fitted */\n",
       "  border: var(--sklearn-color-fitted-level-1) 1pt solid;\n",
       "  color: var(--sklearn-color-fitted-level-1);\n",
       "}\n",
       "\n",
       "/* On hover */\n",
       "div.sk-estimator:hover .sk-estimator-doc-link:hover,\n",
       ".sk-estimator-doc-link:hover,\n",
       "div.sk-label-container:hover .sk-estimator-doc-link:hover,\n",
       ".sk-estimator-doc-link:hover {\n",
       "  /* unfitted */\n",
       "  background-color: var(--sklearn-color-unfitted-level-3);\n",
       "  color: var(--sklearn-color-background);\n",
       "  text-decoration: none;\n",
       "}\n",
       "\n",
       "div.sk-estimator.fitted:hover .sk-estimator-doc-link.fitted:hover,\n",
       ".sk-estimator-doc-link.fitted:hover,\n",
       "div.sk-label-container:hover .sk-estimator-doc-link.fitted:hover,\n",
       ".sk-estimator-doc-link.fitted:hover {\n",
       "  /* fitted */\n",
       "  background-color: var(--sklearn-color-fitted-level-3);\n",
       "  color: var(--sklearn-color-background);\n",
       "  text-decoration: none;\n",
       "}\n",
       "\n",
       "/* Span, style for the box shown on hovering the info icon */\n",
       ".sk-estimator-doc-link span {\n",
       "  display: none;\n",
       "  z-index: 9999;\n",
       "  position: relative;\n",
       "  font-weight: normal;\n",
       "  right: .2ex;\n",
       "  padding: .5ex;\n",
       "  margin: .5ex;\n",
       "  width: min-content;\n",
       "  min-width: 20ex;\n",
       "  max-width: 50ex;\n",
       "  color: var(--sklearn-color-text);\n",
       "  box-shadow: 2pt 2pt 4pt #999;\n",
       "  /* unfitted */\n",
       "  background: var(--sklearn-color-unfitted-level-0);\n",
       "  border: .5pt solid var(--sklearn-color-unfitted-level-3);\n",
       "}\n",
       "\n",
       ".sk-estimator-doc-link.fitted span {\n",
       "  /* fitted */\n",
       "  background: var(--sklearn-color-fitted-level-0);\n",
       "  border: var(--sklearn-color-fitted-level-3);\n",
       "}\n",
       "\n",
       ".sk-estimator-doc-link:hover span {\n",
       "  display: block;\n",
       "}\n",
       "\n",
       "/* \"?\"-specific style due to the `<a>` HTML tag */\n",
       "\n",
       "#sk-container-id-1 a.estimator_doc_link {\n",
       "  float: right;\n",
       "  font-size: 1rem;\n",
       "  line-height: 1em;\n",
       "  font-family: monospace;\n",
       "  background-color: var(--sklearn-color-background);\n",
       "  border-radius: 1rem;\n",
       "  height: 1rem;\n",
       "  width: 1rem;\n",
       "  text-decoration: none;\n",
       "  /* unfitted */\n",
       "  color: var(--sklearn-color-unfitted-level-1);\n",
       "  border: var(--sklearn-color-unfitted-level-1) 1pt solid;\n",
       "}\n",
       "\n",
       "#sk-container-id-1 a.estimator_doc_link.fitted {\n",
       "  /* fitted */\n",
       "  border: var(--sklearn-color-fitted-level-1) 1pt solid;\n",
       "  color: var(--sklearn-color-fitted-level-1);\n",
       "}\n",
       "\n",
       "/* On hover */\n",
       "#sk-container-id-1 a.estimator_doc_link:hover {\n",
       "  /* unfitted */\n",
       "  background-color: var(--sklearn-color-unfitted-level-3);\n",
       "  color: var(--sklearn-color-background);\n",
       "  text-decoration: none;\n",
       "}\n",
       "\n",
       "#sk-container-id-1 a.estimator_doc_link.fitted:hover {\n",
       "  /* fitted */\n",
       "  background-color: var(--sklearn-color-fitted-level-3);\n",
       "}\n",
       "</style><div id=\"sk-container-id-1\" class=\"sk-top-container\"><div class=\"sk-text-repr-fallback\"><pre>RandomForestClassifier()</pre><b>In a Jupyter environment, please rerun this cell to show the HTML representation or trust the notebook. <br />On GitHub, the HTML representation is unable to render, please try loading this page with nbviewer.org.</b></div><div class=\"sk-container\" hidden><div class=\"sk-item\"><div class=\"sk-estimator fitted sk-toggleable\"><input class=\"sk-toggleable__control sk-hidden--visually\" id=\"sk-estimator-id-1\" type=\"checkbox\" checked><label for=\"sk-estimator-id-1\" class=\"sk-toggleable__label fitted sk-toggleable__label-arrow\"><div><div>RandomForestClassifier</div></div><div><a class=\"sk-estimator-doc-link fitted\" rel=\"noreferrer\" target=\"_blank\" href=\"https://scikit-learn.org/1.6/modules/generated/sklearn.ensemble.RandomForestClassifier.html\">?<span>Documentation for RandomForestClassifier</span></a><span class=\"sk-estimator-doc-link fitted\">i<span>Fitted</span></span></div></label><div class=\"sk-toggleable__content fitted\"><pre>RandomForestClassifier()</pre></div> </div></div></div></div>"
      ],
      "text/plain": [
       "RandomForestClassifier()"
      ]
     },
     "execution_count": 13,
     "metadata": {},
     "output_type": "execute_result"
    }
   ],
   "source": [
    "classifier_rf.fit(X_train, y_train)"
   ]
  },
  {
   "cell_type": "markdown",
   "metadata": {},
   "source": [
    "Finally, we can predict the test data using our trained Random forest classifier. This can be done like this:"
   ]
  },
  {
   "cell_type": "code",
   "execution_count": 14,
   "metadata": {},
   "outputs": [
    {
     "name": "stdout",
     "output_type": "stream",
     "text": [
      "[1 1 0 1 0 1 1 0 1 0 1 1 0 0 0 1 1 0 1 1 0 0 1 1 0 0 1 1 0 0 0 0 1 0 0 0 0\n",
      " 1 0 1 1 1 0 0 0 0 1 1 1 0 1 0 0 1 0 1 1 1 0 0]\n",
      "[1 1 0 1 0 1 1 0 1 0 1 0 1 1 0 0 1 0 1 1 0 0 1 1 1 0 1 1 1 0 0 0 1 0 0 0 1\n",
      " 1 0 1 1 1 1 0 0 0 0 1 0 0 1 0 0 0 0 1 1 0 0 0]\n",
      "0.8\n",
      "1.0\n"
     ]
    }
   ],
   "source": [
    "y_pred=classifier_rf.predict( X_test) # predict target for input testing data\n",
    "print(y_pred)\n",
    "y_test=np.array(y_test) # print prediction and test data in order to compare classification\n",
    "print(y_test)\n",
    "\n",
    "print(classifier_rf.score(X_test, y_test)) # print prediction score of test data\n",
    "print(classifier_rf.score(X_train, y_train)) # print prediciton score of training data"
   ]
  },
  {
   "cell_type": "markdown",
   "metadata": {},
   "source": [
    "**Question**: *What does a score of 1 represent? Explain the phenomena*\n",
    "> **Answer**: The prediction score of 1 represents a 100% accuracy for predicting heart diseases for a given input. This happens for the prediction of the training data, because it already knows the data from training and has a bias towards it. This can be an indicator for overfitting, although the relatively high accuracy for the training data does not implicate overfitting in this case."
   ]
  },
  {
   "cell_type": "markdown",
   "metadata": {},
   "source": [
    "Now we can use a confusion matrix for evaluating the Random forest classifiers performance. This can easily be done with the built in functions by sklearn:"
   ]
  },
  {
   "cell_type": "code",
   "execution_count": 15,
   "metadata": {},
   "outputs": [
    {
     "name": "stdout",
     "output_type": "stream",
     "text": [
      "[[25  6]\n",
      " [ 6 23]] \n",
      "               precision    recall  f1-score   support\n",
      "\n",
      "           0       0.81      0.81      0.81        31\n",
      "           1       0.79      0.79      0.79        29\n",
      "\n",
      "    accuracy                           0.80        60\n",
      "   macro avg       0.80      0.80      0.80        60\n",
      "weighted avg       0.80      0.80      0.80        60\n",
      " \n",
      " 0.8\n"
     ]
    }
   ],
   "source": [
    "print( confusion_matrix(y_test, y_pred),\"\\n\", classification_report(y_test, y_pred), \"\\n\",accuracy_score(y_test, y_pred))"
   ]
  },
  {
   "cell_type": "markdown",
   "metadata": {},
   "source": [
    "For better readability, the data is then visualized:"
   ]
  },
  {
   "cell_type": "code",
   "execution_count": 16,
   "metadata": {},
   "outputs": [
    {
     "data": {
      "image/png": "[encoded data removed]",
      "text/plain": [
       "<Figure size 640x480 with 2 Axes>"
      ]
     },
     "metadata": {},
     "output_type": "display_data"
    }
   ],
   "source": [
    "X_labels = [\"Actual Positive\", \"Actual Negative\"]  # Replace 0,1 with A, B, C, D\n",
    "y_labels = [\"Predicted Positive\", \"Predicted Negative\"]\n",
    "\n",
    "fig, ax = plt.subplots()\n",
    "sns.heatmap(confusion_matrix(y_test, y_pred), xticklabels=X_labels, yticklabels=y_labels, annot=True, ax=ax)\n",
    "plt.show()"
   ]
  },
  {
   "cell_type": "markdown",
   "metadata": {},
   "source": [
    "**Question**: *Explain what you see on a confusion matrix, and what are precision, recall and F1 score.*\n",
    "> **Answer**: A confusion matrix is split into four categories, two of which are on the x and two are on the y axis: X = [Actual Positive, Actual Negative] and y = [Predicted Positive, Predicted Negative]. This can be used to compare the predicted results to the actual results.\n",
    "In addition, the confusion matrix can be used to calculate precision, recall, and the F1 score.\n",
    "The precision is the amount of predicted positives that are actually positive.\n",
    "The recall describes the amount of actual positives that were identified. The key difference to the precision is that the precision only takes the predicted positives into account, while the recall takes all predictions into account.\n",
    "The F1-Score is calculated from recall and position and can be used as the mean between those two metrics. It can be seen as the combination of both false positives and false negatives. "
   ]
  },
  {
   "cell_type": "markdown",
   "metadata": {},
   "source": [
    "Now after evaluating the model, we can see that it is not very accurate at identifying actual positives. Therefore, hyperparameters need to be adjusted in order to increase the prediction performance. For the random forest, we can adjust the amount of estimators used. This can be done using a for loop, to test different amounts of estimators:"
   ]
  },
  {
   "cell_type": "code",
   "execution_count": 78,
   "metadata": {},
   "outputs": [
    {
     "name": "stdout",
     "output_type": "stream",
     "text": [
      "{10: 0.8, 60: 0.8166666666666667, 110: 0.8166666666666667, 160: 0.8, 210: 0.8, 260: 0.8166666666666667, 310: 0.8333333333333334, 360: 0.8333333333333334, 410: 0.8166666666666667, 460: 0.8166666666666667}\n",
      "Max score : 0.8333333333333334 For i= 310 \n",
      "\n"
     ]
    }
   ],
   "source": [
    "res={}\n",
    "for i in range(10,500, 50): \n",
    "    classif_i=RandomForestClassifier(n_estimators=i)\n",
    "    classif_i.fit(X_train, y_train)\n",
    "    res[i]=  classif_i.score(X_test, y_test)\n",
    "print(res)\n",
    "print(\"Max score :\", max(res.values()), \"For i=\", max(res, key=res.get), \"\\n\")"
   ]
  },
  {
   "cell_type": "markdown",
   "metadata": {},
   "source": [
    "**Question**: *Re-run the above cell, do you get the same result? Why?*\n",
    "> **Answer**: No, different results are achieved everytime, though to randomness introduced in the random forest classifier. In a process called \"bootstrap sampling\", multiple variants of descision trees are created during training with different subsets of data to be used for training, which are selected randomly. The randomness for results can be prevented by setting a seed for the random generation."
   ]
  },
  {
   "cell_type": "markdown",
   "metadata": {},
   "source": [
    "For reprodubability, we set a random_state to prevent varying results for each execution of the loop."
   ]
  },
  {
   "cell_type": "code",
   "execution_count": 85,
   "metadata": {},
   "outputs": [
    {
     "name": "stdout",
     "output_type": "stream",
     "text": [
      "{10: 0.7833333333333333, 60: 0.8166666666666667, 110: 0.8, 160: 0.8166666666666667, 210: 0.8, 260: 0.8333333333333334, 310: 0.8333333333333334, 360: 0.8333333333333334, 410: 0.8333333333333334, 460: 0.8166666666666667}\n",
      "Max score : 0.8333333333333334 For i= 260 \n",
      "\n"
     ]
    }
   ],
   "source": [
    "res={}\n",
    "for i in range(10,500, 50): \n",
    "    classif_i=RandomForestClassifier(n_estimators=i, random_state=12)\n",
    "    classif_i.fit(X_train, y_train)\n",
    "    res[i]=  classif_i.score(X_test, y_test)\n",
    "print(res)\n",
    "print(\"Max score :\", max(res.values()), \"For i=\", max(res, key=res.get), \"\\n\")"
   ]
  },
  {
   "cell_type": "markdown",
   "metadata": {},
   "source": [
    "## 6. Experimentation"
   ]
  },
  {
   "cell_type": "markdown",
   "metadata": {},
   "source": [
    "Before doing any experiments with the random forest model, it is a good practice to store the model in a pickle file so it can be reused later. This can be done like this:"
   ]
  },
  {
   "cell_type": "code",
   "execution_count": 18,
   "metadata": {},
   "outputs": [],
   "source": [
    "# Make sure the Models folder exists before executing this line\n",
    "pickle.dump(classifier_rf, open(\"./Models/random_forest_1.pkl\", \"wb\")) # wb=write binary"
   ]
  },
  {
   "cell_type": "markdown",
   "metadata": {},
   "source": [
    "After storing the model, it can be restored as follows:"
   ]
  },
  {
   "cell_type": "code",
   "execution_count": 6,
   "metadata": {},
   "outputs": [
    {
     "data": {
      "text/plain": [
       "0.8"
      ]
     },
     "execution_count": 6,
     "metadata": {},
     "output_type": "execute_result"
    }
   ],
   "source": [
    "loaded_classifier = pickle.load(open(\"./Models/random_forest_1.pkl\", \"rb\")) # rb read binary\n",
    "loaded_classifier.score(X_test, y_test)"
   ]
  },
  {
   "cell_type": "markdown",
   "metadata": {},
   "source": [
    "### 6.1 Univariate Analyis"
   ]
  },
  {
   "cell_type": "markdown",
   "metadata": {},
   "source": [
    "**Question**: *Look at a histogram of age. What does this plot tell us?*"
   ]
  },
  {
   "cell_type": "code",
   "execution_count": 7,
   "metadata": {},
   "outputs": [
    {
     "data": {
      "image/png": "[encoded data removed]",
      "text/plain": [
       "<Figure size 640x480 with 1 Axes>"
      ]
     },
     "metadata": {},
     "output_type": "display_data"
    }
   ],
   "source": [
    "# Check the distribution of the age column with a histogram\n",
    "X_train.age.plot.hist();#bins=50) ;"
   ]
  },
  {
   "cell_type": "markdown",
   "metadata": {},
   "source": [
    "> **Answer**: It can be seen that a significant part of the heart disease data was collected from people aged 40-60, with the most people having an age of around 60 years. This can be interpreted as the most likely age to experience heart diseases."
   ]
  },
  {
   "cell_type": "markdown",
   "metadata": {},
   "source": [
    "### 6.2 Multivariate Analyis"
   ]
  },
  {
   "cell_type": "markdown",
   "metadata": {},
   "source": [
    "**Question**: *Is Heart Disease Frequency the same for both sexes? Produce a visualization that answers this question.*"
   ]
  },
  {
   "cell_type": "code",
   "execution_count": 8,
   "metadata": {},
   "outputs": [],
   "source": [
    "X_male = X_train[X_train[\"sex\"] == 1]\n",
    "X_female = X_train[X_train[\"sex\"] == 0]"
   ]
  },
  {
   "cell_type": "code",
   "execution_count": 22,
   "metadata": {},
   "outputs": [
    {
     "name": "stdout",
     "output_type": "stream",
     "text": [
      "Amount Male:    162\n",
      "Amount Female:  75\n"
     ]
    }
   ],
   "source": [
    "print(\"Amount Male:   \", len(X_male))\n",
    "print(\"Amount Female: \", len(X_female))"
   ]
  },
  {
   "cell_type": "markdown",
   "metadata": {},
   "source": [
    "Due to the fact that there are twice as many male heart disease patients in the dataset, the frequency for male will be higher by default. therefore, we enable the density parameter for the histogram to ensure even frequency values for both male and female participants."
   ]
  },
  {
   "cell_type": "code",
   "execution_count": null,
   "metadata": {},
   "outputs": [
    {
     "data": {
      "image/png": "[encoded data removed]",
      "text/plain": [
       "<Figure size 640x480 with 1 Axes>"
      ]
     },
     "metadata": {},
     "output_type": "display_data"
    }
   ],
   "source": [
    "plt.hist(X_female.age, alpha=0.5, label=\"Female\", color=\"red\", density=True) # density True to ensure frequency is  between 0 and 1\n",
    "plt.hist(X_male.age, alpha=0.5, label=\"Male\", color=\"blue\", density=True) # density True to ensure frequency is  between 0 and 1\n",
    "\n",
    "plt.title(\"Age Distribution of Males and Females\")\n",
    "plt.xlabel(\"Age\")\n",
    "plt.ylabel(\"Frequency\")\n",
    "plt.legend()\n",
    "\n",
    "plt.show()\n"
   ]
  },
  {
   "cell_type": "markdown",
   "metadata": {},
   "source": [
    "> **Answer**: It can be seen that the distribution for male and female heart disease cases are similar, except that the frequency is higher for male patients between 40 and 50. In the age range of aroung 60 years, it can be seen that male patients have a higher frequency than female patients. After that, the male frequency experiences a fast drop, whereas the female frequency drops later at around 65 years until at 70 years, the frequency is practically the same for both sexes. That means that between the age of 60 and 65, female patients have a higher frequency of heart diseases than male patients."
   ]
  },
  {
   "cell_type": "markdown",
   "metadata": {},
   "source": [
    "**Question**: *Look at Age vs. Max Heart Rate for Heart Disease. What can you deduce?*"
   ]
  },
  {
   "cell_type": "code",
   "execution_count": 66,
   "metadata": {},
   "outputs": [
    {
     "data": {
      "image/png": "[encoded data removed]",
      "text/plain": [
       "<Figure size 640x480 with 1 Axes>"
      ]
     },
     "metadata": {},
     "output_type": "display_data"
    }
   ],
   "source": [
    "# the max heart rate is stored in column 'thalach'\n",
    "# a suitable plot to compare age and thalach is the scatter plot, as it shows correlations between those two values\n",
    "\n",
    "X_train_df = pd.DataFrame(X_train)\n",
    "\n",
    "sns.regplot(x=X_train_df[\"age\"], y=X_train_df[\"thalach\"], line_kws={\"color\":\"red\"}) # line_kws sets appearance of regression line\n",
    "\n",
    "plt.title(\"Age vs Max Heart Rate\")\n",
    "plt.xlabel(\"Age\")\n",
    "plt.ylabel(\"Max Heart Rate\")\n",
    "plt.show()"
   ]
  },
  {
   "cell_type": "markdown",
   "metadata": {},
   "source": [
    "> **Answer**: A decline in max heart rate can be seen using the regression line. At age 30, a maximum heart rate of around 180 pm is average, while at 70 bpm, the average max heart rate is down to 140, which is a decline of around 40 bpm."
   ]
  },
  {
   "cell_type": "markdown",
   "metadata": {},
   "source": [
    "**Question**: *Perform some more EDA, draw and explain some conclusions:*"
   ]
  },
  {
   "cell_type": "code",
   "execution_count": null,
   "metadata": {},
   "outputs": [
    {
     "data": {
      "image/png": "[encoded data removed]",
      "text/plain": [
       "<Figure size 640x480 with 1 Axes>"
      ]
     },
     "metadata": {},
     "output_type": "display_data"
    }
   ],
   "source": [
    "# look at serum cholestoral value for age\n",
    "plt.hist(X_male.chol, alpha=0.5, label=\"Male\", color=\"blue\", density=True) # density True to ensure frequency is  between 0 and 1\n",
    "plt.hist(X_female.chol, alpha=0.5, label=\"Female\", color=\"red\", density=True) # density True to ensure frequency is  between 0 and 1\n",
    "\n",
    "\n",
    "plt.title(\"Serum cholestoral frequency distribution\")\n",
    "plt.xlabel(\"Serum cholestoral\")\n",
    "plt.ylabel(\"Frequency\")\n",
    "plt.legend()\n",
    "\n",
    "plt.show()\n"
   ]
  },
  {
   "cell_type": "markdown",
   "metadata": {},
   "source": [
    "Here it can be seen that most cholestoral values are in a range between 150 and 350. There are a very few outliers that deviate from this pattern. Additionally,  it can be seen that in the average range of 150 to 350, male patients have a higher cholestoral value than the female patients. apart from that, we can see that the outlier values are exclusively female patients."
   ]
  },
  {
   "cell_type": "code",
   "execution_count": 68,
   "metadata": {},
   "outputs": [
    {
     "name": "stderr",
     "output_type": "stream",
     "text": [
      "C:\\Users\\nikla\\AppData\\Local\\Temp\\ipykernel_16184\\1099179459.py:10: FutureWarning: \n",
      "\n",
      "Passing `palette` without assigning `hue` is deprecated and will be removed in v0.14.0. Assign the `x` variable to `hue` and set `legend=False` for the same effect.\n",
      "\n",
      "  sns.countplot(x=X_train_df[\"cp_label\"], palette=\"coolwarm\") # use cp_label to display the names\n"
     ]
    },
    {
     "data": {
      "image/png": "[encoded data removed]",
      "text/plain": [
       "<Figure size 640x480 with 1 Axes>"
      ]
     },
     "metadata": {},
     "output_type": "display_data"
    }
   ],
   "source": [
    "# Exploring patterns in chest pain types\n",
    "types = {1: \"Typical angina\", 2: \"Atypical angina\", 3: \"Non-Anginal Pain\", 4: \"Asymptomatic\"} \n",
    "\n",
    "\n",
    "X_train_df = pd.DataFrame(X_train)\n",
    "\n",
    "X_train_df[\"cp_label\"] = X_train_df[\"cp\"].map(types) # create labels for better visualization\n",
    "\n",
    "# Plot\n",
    "sns.countplot(x=X_train_df[\"cp_label\"], palette=\"coolwarm\") # use cp_label to display the names\n",
    "\n",
    "plt.title(\"Chest Pain Types Distribution\")\n",
    "plt.xlabel(\"Chest Pain Type\")\n",
    "plt.ylabel(\"Count\")\n",
    "\n",
    "plt.show()"
   ]
  },
  {
   "cell_type": "markdown",
   "metadata": {},
   "source": [
    "The distribution plot shows that most common type of chest pain from the patients is asymptomatic chest pain, while the least common is typical angina.\n",
    "\n",
    "Now let's analyze if there are differnces in sexes for the chest pain distributions"
   ]
  },
  {
   "cell_type": "code",
   "execution_count": 84,
   "metadata": {},
   "outputs": [
    {
     "data": {
      "image/png": "[encoded data removed]",
      "text/plain": [
       "<Figure size 640x480 with 1 Axes>"
      ]
     },
     "metadata": {},
     "output_type": "display_data"
    }
   ],
   "source": [
    "import seaborn as sns\n",
    "import matplotlib.pyplot as plt\n",
    "\n",
    "# Define chest pain type labels\n",
    "types = {1: \"Typical angina\", 2: \"Atypical angina\", 3: \"Non-Anginal Pain\", 4: \"Asymptomatic\"}\n",
    "\n",
    "# Convert cp values to labels\n",
    "X_train_df = pd.DataFrame(X_train)\n",
    "X_train_df[\"cp_label\"] = X_train_df[\"cp\"].map(types)\n",
    "\n",
    "# Plot overlapping histograms for male (sex=1) and female (sex=0)\n",
    "sns.histplot(data=X_train_df, x=\"cp_label\", hue=\"sex\", multiple=\"dodge\", palette=[\"red\", \"blue\"], shrink=0.9)\n",
    "\n",
    "# Titles and labels\n",
    "plt.title(\"Chest Pain Type Distribution (Male vs. Female)\")\n",
    "plt.xlabel(\"Chest Pain Type\")\n",
    "plt.ylabel(\"Count\")\n",
    "\n",
    "# Custom legend\n",
    "plt.legend(title=\"Sex\", labels=[\"Male\", \"Female\"])  \n",
    "\n",
    "# Rotate x-axis labels for readability\n",
    "plt.xticks(rotation=30)\n",
    "\n",
    "# Show plot\n",
    "plt.show()\n"
   ]
  },
  {
   "cell_type": "markdown",
   "metadata": {},
   "source": [
    "When looking at the chest pain type distribution for male and female patients, it can be seen that while there is a significant amount of asymptomatic chest pain for male patients, female patients have a much lower amount of asymptomatic chest pain cases. While there are in total only half as many female patients, the asymptomatic chest pain does not seem like an outlier for female patients."
   ]
  }
 ],
 "metadata": {
  "kernelspec": {
   "display_name": "case_study_1_heart_disease",
   "language": "python",
   "name": "python3"
  },
  "language_info": {
   "codemirror_mode": {
    "name": "ipython",
    "version": 3
   },
   "file_extension": ".py",
   "mimetype": "text/x-python",
   "name": "python",
   "nbconvert_exporter": "python",
   "pygments_lexer": "ipython3",
   "version": "3.12.9"
  }
 },
 "nbformat": 4,
 "nbformat_minor": 2
}
